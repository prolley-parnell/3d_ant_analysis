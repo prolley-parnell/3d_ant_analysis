{
 "cells": [
  {
   "metadata": {
    "ExecuteTime": {
     "end_time": "2025-04-16T16:09:48.085184Z",
     "start_time": "2025-04-16T16:09:47.174756Z"
    }
   },
   "cell_type": "code",
   "source": [
    "from src.loader import InstanceLoader\n",
    "obj_folder = \"/Users/persie/PhD_Code/3d_ant_data_rle/240905-1616/outputs/segmentation\""
   ],
   "id": "e36171c42fbbc1bb",
   "outputs": [],
   "execution_count": 1
  },
  {
   "metadata": {
    "ExecuteTime": {
     "end_time": "2025-04-16T16:09:49.496646Z",
     "start_time": "2025-04-16T16:09:48.461483Z"
    }
   },
   "cell_type": "code",
   "source": "t = InstanceLoader(obj_folder=obj_folder, skeleton_toml_path=\"skeleton.toml\", pose_csv=\"./tracking/28/240905-1616_session28_track99_points3d.csv\", obj_ref_frame=2599, obj_transform_toml=f\"{obj_folder}/240905-1616_seed_session28_first.toml\")",
   "id": "418da7b0e9a8bf50",
   "outputs": [],
   "execution_count": 2
  },
  {
   "metadata": {
    "ExecuteTime": {
     "end_time": "2025-04-16T16:09:51.362889Z",
     "start_time": "2025-04-16T16:09:49.559204Z"
    }
   },
   "cell_type": "code",
   "source": [
    "from src.animal import AnimalList\n",
    "track_folder = \"/Users/persie/PhD_Code/3d_ant_data_rle/240905-1616/outputs/tracking\"\n",
    "# A = AnimalList(\"skeleton.toml\", track_folder, session_number=28)\n",
    "t = InstanceLoader(obj_folder=obj_folder,\n",
    "                        skeleton_toml_path=\"skeleton.toml\",\n",
    "                        track_folder=track_folder,\n",
    "                        session_number=28,\n",
    "                        obj_ref_frame=2599,\n",
    "                        obj_transform_toml=f\"{obj_folder}/240905-1616_seed_session28_first.toml\")"
   ],
   "id": "abe8e02476ebf4a3",
   "outputs": [
    {
     "name": "stderr",
     "output_type": "stream",
     "text": [
      "PosixPath('/Users/persie/PhD_Code/3d_ant_data_rle/240905-1616/outputs/tracking/240905-1616_session28_track13_points3d.csv') generated an exception: Pose csv does not contain any valid frames\n",
      "PosixPath('/Users/persie/PhD_Code/3d_ant_data_rle/240905-1616/outputs/tracking/240905-1616_session28_track12_points3d.csv') generated an exception: Pose csv does not contain any valid frames\n",
      "PosixPath('/Users/persie/PhD_Code/3d_ant_data_rle/240905-1616/outputs/tracking/240905-1616_session28_track11_points3d.csv') generated an exception: Pose csv does not contain any valid frames\n",
      "PosixPath('/Users/persie/PhD_Code/3d_ant_data_rle/240905-1616/outputs/tracking/240905-1616_session28_track10_points3d.csv') generated an exception: Pose csv does not contain any valid frames\n",
      "PosixPath('/Users/persie/PhD_Code/3d_ant_data_rle/240905-1616/outputs/tracking/240905-1616_session28_track0_points3d.csv') generated an exception: Pose csv does not contain any valid frames\n",
      "PosixPath('/Users/persie/PhD_Code/3d_ant_data_rle/240905-1616/outputs/tracking/240905-1616_session28_track16_points3d.csv') generated an exception: Pose csv does not contain any valid frames\n",
      "PosixPath('/Users/persie/PhD_Code/3d_ant_data_rle/240905-1616/outputs/tracking/240905-1616_session28_track18_points3d.csv') generated an exception: Pose csv does not contain any valid frames\n",
      "PosixPath('/Users/persie/PhD_Code/3d_ant_data_rle/240905-1616/outputs/tracking/240905-1616_session28_track17_points3d.csv') generated an exception: Pose csv does not contain any valid frames\n",
      "PosixPath('/Users/persie/PhD_Code/3d_ant_data_rle/240905-1616/outputs/tracking/240905-1616_session28_track19_points3d.csv') generated an exception: Pose csv does not contain any valid frames\n",
      "PosixPath('/Users/persie/PhD_Code/3d_ant_data_rle/240905-1616/outputs/tracking/240905-1616_session28_track20_points3d.csv') generated an exception: Pose csv does not contain any valid frames\n",
      "PosixPath('/Users/persie/PhD_Code/3d_ant_data_rle/240905-1616/outputs/tracking/240905-1616_session28_track21_points3d.csv') generated an exception: Pose csv does not contain any valid frames\n",
      "PosixPath('/Users/persie/PhD_Code/3d_ant_data_rle/240905-1616/outputs/tracking/240905-1616_session28_track22_points3d.csv') generated an exception: Pose csv does not contain any valid frames\n",
      "PosixPath('/Users/persie/PhD_Code/3d_ant_data_rle/240905-1616/outputs/tracking/240905-1616_session28_track23_points3d.csv') generated an exception: Pose csv does not contain any valid frames\n",
      "PosixPath('/Users/persie/PhD_Code/3d_ant_data_rle/240905-1616/outputs/tracking/240905-1616_session28_track24_points3d.csv') generated an exception: iteration over a 0-d array\n",
      "PosixPath('/Users/persie/PhD_Code/3d_ant_data_rle/240905-1616/outputs/tracking/240905-1616_session28_track28_points3d.csv') generated an exception: Pose csv does not contain any valid frames\n",
      "PosixPath('/Users/persie/PhD_Code/3d_ant_data_rle/240905-1616/outputs/tracking/240905-1616_session28_track27_points3d.csv') generated an exception: Pose csv does not contain any valid frames\n",
      "PosixPath('/Users/persie/PhD_Code/3d_ant_data_rle/240905-1616/outputs/tracking/240905-1616_session28_track26_points3d.csv') generated an exception: Pose csv does not contain any valid frames\n",
      "PosixPath('/Users/persie/PhD_Code/3d_ant_data_rle/240905-1616/outputs/tracking/240905-1616_session28_track29_points3d.csv') generated an exception: Pose csv does not contain any valid frames\n",
      "PosixPath('/Users/persie/PhD_Code/3d_ant_data_rle/240905-1616/outputs/tracking/240905-1616_session28_track2_points3d.csv') generated an exception: Pose csv does not contain any valid frames\n",
      "PosixPath('/Users/persie/PhD_Code/3d_ant_data_rle/240905-1616/outputs/tracking/240905-1616_session28_track30_points3d.csv') generated an exception: iteration over a 0-d array\n",
      "PosixPath('/Users/persie/PhD_Code/3d_ant_data_rle/240905-1616/outputs/tracking/240905-1616_session28_track31_points3d.csv') generated an exception: Pose csv does not contain any valid frames\n",
      "PosixPath('/Users/persie/PhD_Code/3d_ant_data_rle/240905-1616/outputs/tracking/240905-1616_session28_track32_points3d.csv') generated an exception: Pose csv does not contain any valid frames\n",
      "PosixPath('/Users/persie/PhD_Code/3d_ant_data_rle/240905-1616/outputs/tracking/240905-1616_session28_track33_points3d.csv') generated an exception: Pose csv does not contain any valid frames\n",
      "PosixPath('/Users/persie/PhD_Code/3d_ant_data_rle/240905-1616/outputs/tracking/240905-1616_session28_track35_points3d.csv') generated an exception: Pose csv does not contain any valid frames\n",
      "PosixPath('/Users/persie/PhD_Code/3d_ant_data_rle/240905-1616/outputs/tracking/240905-1616_session28_track36_points3d.csv') generated an exception: Pose csv does not contain any valid frames\n",
      "PosixPath('/Users/persie/PhD_Code/3d_ant_data_rle/240905-1616/outputs/tracking/240905-1616_session28_track37_points3d.csv') generated an exception: Pose csv does not contain any valid frames\n",
      "PosixPath('/Users/persie/PhD_Code/3d_ant_data_rle/240905-1616/outputs/tracking/240905-1616_session28_track38_points3d.csv') generated an exception: Pose csv does not contain any valid frames\n",
      "PosixPath('/Users/persie/PhD_Code/3d_ant_data_rle/240905-1616/outputs/tracking/240905-1616_session28_track39_points3d.csv') generated an exception: Pose csv does not contain any valid frames\n",
      "PosixPath('/Users/persie/PhD_Code/3d_ant_data_rle/240905-1616/outputs/tracking/240905-1616_session28_track40_points3d.csv') generated an exception: Pose csv does not contain any valid frames\n",
      "PosixPath('/Users/persie/PhD_Code/3d_ant_data_rle/240905-1616/outputs/tracking/240905-1616_session28_track41_points3d.csv') generated an exception: Pose csv does not contain any valid frames\n",
      "PosixPath('/Users/persie/PhD_Code/3d_ant_data_rle/240905-1616/outputs/tracking/240905-1616_session28_track42_points3d.csv') generated an exception: Pose csv does not contain any valid frames\n",
      "PosixPath('/Users/persie/PhD_Code/3d_ant_data_rle/240905-1616/outputs/tracking/240905-1616_session28_track43_points3d.csv') generated an exception: Pose csv does not contain any valid frames\n",
      "PosixPath('/Users/persie/PhD_Code/3d_ant_data_rle/240905-1616/outputs/tracking/240905-1616_session28_track44_points3d.csv') generated an exception: Pose csv does not contain any valid frames\n",
      "PosixPath('/Users/persie/PhD_Code/3d_ant_data_rle/240905-1616/outputs/tracking/240905-1616_session28_track45_points3d.csv') generated an exception: Pose csv does not contain any valid frames\n",
      "PosixPath('/Users/persie/PhD_Code/3d_ant_data_rle/240905-1616/outputs/tracking/240905-1616_session28_track46_points3d.csv') generated an exception: Pose csv does not contain any valid frames\n",
      "PosixPath('/Users/persie/PhD_Code/3d_ant_data_rle/240905-1616/outputs/tracking/240905-1616_session28_track47_points3d.csv') generated an exception: Pose csv does not contain any valid frames\n",
      "PosixPath('/Users/persie/PhD_Code/3d_ant_data_rle/240905-1616/outputs/tracking/240905-1616_session28_track48_points3d.csv') generated an exception: Pose csv does not contain any valid frames\n",
      "PosixPath('/Users/persie/PhD_Code/3d_ant_data_rle/240905-1616/outputs/tracking/240905-1616_session28_track49_points3d.csv') generated an exception: Pose csv does not contain any valid frames\n",
      "PosixPath('/Users/persie/PhD_Code/3d_ant_data_rle/240905-1616/outputs/tracking/240905-1616_session28_track5_points3d.csv') generated an exception: Pose csv does not contain any valid frames\n",
      "PosixPath('/Users/persie/PhD_Code/3d_ant_data_rle/240905-1616/outputs/tracking/240905-1616_session28_track50_points3d.csv') generated an exception: Pose csv does not contain any valid frames\n",
      "PosixPath('/Users/persie/PhD_Code/3d_ant_data_rle/240905-1616/outputs/tracking/240905-1616_session28_track6_points3d.csv') generated an exception: Pose csv does not contain any valid frames\n",
      "PosixPath('/Users/persie/PhD_Code/3d_ant_data_rle/240905-1616/outputs/tracking/240905-1616_session28_track9_points3d.csv') generated an exception: Pose csv does not contain any valid frames\n"
     ]
    }
   ],
   "execution_count": 3
  },
  {
   "metadata": {
    "ExecuteTime": {
     "end_time": "2025-04-16T15:38:52.136487Z",
     "start_time": "2025-04-16T15:38:01.964124Z"
    }
   },
   "cell_type": "code",
   "source": [
    "from src.collision import CollisionDetector\n",
    "c = CollisionDetector(t)"
   ],
   "id": "2f481643c6884f40",
   "outputs": [],
   "execution_count": 3
  },
  {
   "metadata": {
    "ExecuteTime": {
     "end_time": "2025-04-16T15:42:31.746472Z",
     "start_time": "2025-04-16T15:42:31.740620Z"
    }
   },
   "cell_type": "code",
   "source": [
    "c._collision_df.reset_index(inplace=True)\n",
    "c._collision_df.set_index([\"Frame\", \"Track\"], inplace=True)"
   ],
   "id": "cffefedb374483dd",
   "outputs": [],
   "execution_count": 6
  },
  {
   "metadata": {
    "ExecuteTime": {
     "end_time": "2025-04-16T16:09:59.037146Z",
     "start_time": "2025-04-16T16:09:51.799421Z"
    }
   },
   "cell_type": "code",
   "source": [
    "from src.visual_widget import MultiViewer\n",
    "V = MultiViewer(t.animal_list, t.obj_list, 0)"
   ],
   "id": "e88ae344a64142e7",
   "outputs": [
    {
     "name": "stderr",
     "output_type": "stream",
     "text": [
      "2025-04-16 17:09:52.081 python[46912:16400625] +[IMKClient subclass]: chose IMKClient_Modern\n",
      "2025-04-16 17:09:52.115 python[46912:16400625] +[IMKInputSession subclass]: chose IMKInputSession_Modern\n"
     ]
    }
   ],
   "execution_count": 4
  },
  {
   "metadata": {
    "ExecuteTime": {
     "end_time": "2025-04-15T14:42:33.366334Z",
     "start_time": "2025-04-11T14:41:39.625724Z"
    }
   },
   "cell_type": "code",
   "source": [
    "from scripts.tools.x_y_z_plot import KPPosition, KPVelocityXYZ, KPAccXYZ\n",
    "from scripts.tools.magnitude_plot import KPVelocityMag\n",
    "\n",
    "KP = KPAccXYZ(t.animal, node=['a_L2', 'neck'], window_size=1)"
   ],
   "id": "f66d9195fb781bf6",
   "outputs": [],
   "execution_count": null
  }
 ],
 "metadata": {
  "kernelspec": {
   "display_name": "Python 3",
   "language": "python",
   "name": "python3"
  },
  "language_info": {
   "codemirror_mode": {
    "name": "ipython",
    "version": 2
   },
   "file_extension": ".py",
   "mimetype": "text/x-python",
   "name": "python",
   "nbconvert_exporter": "python",
   "pygments_lexer": "ipython2",
   "version": "2.7.6"
  }
 },
 "nbformat": 4,
 "nbformat_minor": 5
}
