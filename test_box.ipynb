{
 "cells": [
  {
   "cell_type": "code",
   "id": "initial_id",
   "metadata": {
    "collapsed": true,
    "ExecuteTime": {
     "end_time": "2025-02-05T18:12:08.141885Z",
     "start_time": "2025-02-05T18:12:07.182247Z"
    }
   },
   "source": "from src.collision import CollisionDetector",
   "outputs": [],
   "execution_count": 1
  },
  {
   "metadata": {
    "ExecuteTime": {
     "end_time": "2025-02-03T13:44:37.592855Z",
     "start_time": "2025-02-03T13:44:37.589870Z"
    }
   },
   "cell_type": "code",
   "source": "names = ['thorax', 'neck', 'a_L1', 'a_L2', 'a_R1', 'a_R2', 'leg_f_L1', 'leg_f_L2', 'leg_f_R1', 'leg_f_R2', 'leg_m_L1', 'leg_m_L2', 'leg_m_R1', 'leg_m_R2', 'a_R0', 'a_L0', 'leg_f_R0', 'leg_f_L0', 'leg_m_R0', 'leg_m_L0', 'eye_L', 'eye_R', 'm_L0', 'm_R0', 'm_L1', 'm_R1']",
   "id": "43f20774704852b",
   "outputs": [],
   "execution_count": 2
  },
  {
   "metadata": {
    "ExecuteTime": {
     "end_time": "2025-02-05T18:12:19.897224Z",
     "start_time": "2025-02-05T18:12:09.349953Z"
    }
   },
   "cell_type": "code",
   "source": [
    "# t = CollisionDetector(obj_folder=\"./example_obj_folder/\", skeleton_json_path=\"\", pose_csv=\"ant_3d.csv\")\n",
    "t = CollisionDetector(obj_folder=\"./example_obj_folder/seed/\", skeleton_json_path=\"\", pose_csv=\"1616_session28_ant_3d_WITHFRAMES.csv\")"
   ],
   "id": "ab59df64419acd93",
   "outputs": [],
   "execution_count": 2
  },
  {
   "metadata": {
    "ExecuteTime": {
     "end_time": "2025-02-05T18:12:28.429643Z",
     "start_time": "2025-02-05T18:12:28.424465Z"
    }
   },
   "cell_type": "code",
   "source": "from src.visual_widget import CombiViewer",
   "id": "f812ea50902641e0",
   "outputs": [],
   "execution_count": 3
  },
  {
   "metadata": {
    "ExecuteTime": {
     "end_time": "2025-02-05T18:12:56.866965Z",
     "start_time": "2025-02-05T18:12:56.609781Z"
    }
   },
   "cell_type": "code",
   "source": "V = CombiViewer(t.animal, t.obj, 3500)",
   "id": "e88ae344a64142e7",
   "outputs": [
    {
     "name": "stderr",
     "output_type": "stream",
     "text": [
      "2025-02-05 18:12:56.747 python[89144:19468272] +[IMKClient subclass]: chose IMKClient_Modern\n"
     ]
    },
    {
     "ename": "ValueError",
     "evalue": "Point clouds must be (n, 3)!",
     "output_type": "error",
     "traceback": [
      "\u001B[0;31m---------------------------------------------------------------------------\u001B[0m",
      "\u001B[0;31mValueError\u001B[0m                                Traceback (most recent call last)",
      "Cell \u001B[0;32mIn[6], line 1\u001B[0m\n\u001B[0;32m----> 1\u001B[0m V \u001B[38;5;241m=\u001B[39m \u001B[43mCombiViewer\u001B[49m\u001B[43m(\u001B[49m\u001B[43mt\u001B[49m\u001B[38;5;241;43m.\u001B[39;49m\u001B[43manimal\u001B[49m\u001B[43m,\u001B[49m\u001B[43m \u001B[49m\u001B[43mt\u001B[49m\u001B[38;5;241;43m.\u001B[39;49m\u001B[43mobj\u001B[49m\u001B[43m,\u001B[49m\u001B[43m \u001B[49m\u001B[38;5;241;43m3500\u001B[39;49m\u001B[43m)\u001B[49m\n",
      "File \u001B[0;32m~/PycharmProjects/3d_ant_analysis/src/visual_widget.py:137\u001B[0m, in \u001B[0;36mCombiViewer.__init__\u001B[0;34m(self, animal, object, frame_index)\u001B[0m\n\u001B[1;32m    134\u001B[0m gui\u001B[38;5;241m.\u001B[39madd(hbox)\n\u001B[1;32m    136\u001B[0m pyglet\u001B[38;5;241m.\u001B[39mclock\u001B[38;5;241m.\u001B[39mschedule_interval(\u001B[38;5;28mself\u001B[39m\u001B[38;5;241m.\u001B[39mcallback, \u001B[38;5;241m1.0\u001B[39m \u001B[38;5;241m/\u001B[39m \u001B[38;5;241m10\u001B[39m)\n\u001B[0;32m--> 137\u001B[0m \u001B[43mpyglet\u001B[49m\u001B[38;5;241;43m.\u001B[39;49m\u001B[43mapp\u001B[49m\u001B[38;5;241;43m.\u001B[39;49m\u001B[43mrun\u001B[49m\u001B[43m(\u001B[49m\u001B[43m)\u001B[49m\n",
      "File \u001B[0;32m/opt/homebrew/Caskroom/miniforge/base/envs/3d_ant_analysis/lib/python3.8/site-packages/pyglet/app/__init__.py:107\u001B[0m, in \u001B[0;36mrun\u001B[0;34m()\u001B[0m\n\u001B[1;32m     99\u001B[0m \u001B[38;5;28;01mdef\u001B[39;00m \u001B[38;5;21mrun\u001B[39m():\n\u001B[1;32m    100\u001B[0m \u001B[38;5;250m    \u001B[39m\u001B[38;5;124;03m\"\"\"Begin processing events, scheduled functions and window updates.\u001B[39;00m\n\u001B[1;32m    101\u001B[0m \n\u001B[1;32m    102\u001B[0m \u001B[38;5;124;03m    This is a convenience function, equivalent to::\u001B[39;00m\n\u001B[0;32m   (...)\u001B[0m\n\u001B[1;32m    105\u001B[0m \n\u001B[1;32m    106\u001B[0m \u001B[38;5;124;03m    \"\"\"\u001B[39;00m\n\u001B[0;32m--> 107\u001B[0m     \u001B[43mevent_loop\u001B[49m\u001B[38;5;241;43m.\u001B[39;49m\u001B[43mrun\u001B[49m\u001B[43m(\u001B[49m\u001B[43m)\u001B[49m\n",
      "File \u001B[0;32m/opt/homebrew/Caskroom/miniforge/base/envs/3d_ant_analysis/lib/python3.8/site-packages/pyglet/app/base.py:169\u001B[0m, in \u001B[0;36mEventLoop.run\u001B[0;34m(self)\u001B[0m\n\u001B[1;32m    166\u001B[0m \u001B[38;5;28mself\u001B[39m\u001B[38;5;241m.\u001B[39mis_running \u001B[38;5;241m=\u001B[39m \u001B[38;5;28;01mTrue\u001B[39;00m\n\u001B[1;32m    168\u001B[0m \u001B[38;5;28;01mwhile\u001B[39;00m \u001B[38;5;129;01mnot\u001B[39;00m \u001B[38;5;28mself\u001B[39m\u001B[38;5;241m.\u001B[39mhas_exit:\n\u001B[0;32m--> 169\u001B[0m     timeout \u001B[38;5;241m=\u001B[39m \u001B[38;5;28;43mself\u001B[39;49m\u001B[38;5;241;43m.\u001B[39;49m\u001B[43midle\u001B[49m\u001B[43m(\u001B[49m\u001B[43m)\u001B[49m\n\u001B[1;32m    170\u001B[0m     platform_event_loop\u001B[38;5;241m.\u001B[39mstep(timeout)\n\u001B[1;32m    172\u001B[0m \u001B[38;5;28mself\u001B[39m\u001B[38;5;241m.\u001B[39mis_running \u001B[38;5;241m=\u001B[39m \u001B[38;5;28;01mFalse\u001B[39;00m\n",
      "File \u001B[0;32m/opt/homebrew/Caskroom/miniforge/base/envs/3d_ant_analysis/lib/python3.8/site-packages/pyglet/app/base.py:239\u001B[0m, in \u001B[0;36mEventLoop.idle\u001B[0;34m(self)\u001B[0m\n\u001B[1;32m    214\u001B[0m \u001B[38;5;250m\u001B[39m\u001B[38;5;124;03m\"\"\"Called during each iteration of the event loop.\u001B[39;00m\n\u001B[1;32m    215\u001B[0m \n\u001B[1;32m    216\u001B[0m \u001B[38;5;124;03mThe method is called immediately after any window events (i.e., after\u001B[39;00m\n\u001B[0;32m   (...)\u001B[0m\n\u001B[1;32m    236\u001B[0m \u001B[38;5;124;03m    be called again, or `None` to block for user input.\u001B[39;00m\n\u001B[1;32m    237\u001B[0m \u001B[38;5;124;03m\"\"\"\u001B[39;00m\n\u001B[1;32m    238\u001B[0m dt \u001B[38;5;241m=\u001B[39m \u001B[38;5;28mself\u001B[39m\u001B[38;5;241m.\u001B[39mclock\u001B[38;5;241m.\u001B[39mupdate_time()\n\u001B[0;32m--> 239\u001B[0m redraw_all \u001B[38;5;241m=\u001B[39m \u001B[38;5;28;43mself\u001B[39;49m\u001B[38;5;241;43m.\u001B[39;49m\u001B[43mclock\u001B[49m\u001B[38;5;241;43m.\u001B[39;49m\u001B[43mcall_scheduled_functions\u001B[49m\u001B[43m(\u001B[49m\u001B[43mdt\u001B[49m\u001B[43m)\u001B[49m\n\u001B[1;32m    241\u001B[0m \u001B[38;5;66;03m# Redraw all windows\u001B[39;00m\n\u001B[1;32m    242\u001B[0m \u001B[38;5;28;01mfor\u001B[39;00m window \u001B[38;5;129;01min\u001B[39;00m app\u001B[38;5;241m.\u001B[39mwindows:\n",
      "File \u001B[0;32m/opt/homebrew/Caskroom/miniforge/base/envs/3d_ant_analysis/lib/python3.8/site-packages/pyglet/clock.py:292\u001B[0m, in \u001B[0;36mClock.call_scheduled_functions\u001B[0;34m(self, dt)\u001B[0m\n\u001B[1;32m    289\u001B[0m     \u001B[38;5;28;01mbreak\u001B[39;00m\n\u001B[1;32m    291\u001B[0m \u001B[38;5;66;03m# execute the callback\u001B[39;00m\n\u001B[0;32m--> 292\u001B[0m \u001B[43mitem\u001B[49m\u001B[38;5;241;43m.\u001B[39;49m\u001B[43mfunc\u001B[49m\u001B[43m(\u001B[49m\u001B[43mnow\u001B[49m\u001B[43m \u001B[49m\u001B[38;5;241;43m-\u001B[39;49m\u001B[43m \u001B[49m\u001B[43mitem\u001B[49m\u001B[38;5;241;43m.\u001B[39;49m\u001B[43mlast_ts\u001B[49m\u001B[43m,\u001B[49m\u001B[43m \u001B[49m\u001B[38;5;241;43m*\u001B[39;49m\u001B[43mitem\u001B[49m\u001B[38;5;241;43m.\u001B[39;49m\u001B[43margs\u001B[49m\u001B[43m,\u001B[49m\u001B[43m \u001B[49m\u001B[38;5;241;43m*\u001B[39;49m\u001B[38;5;241;43m*\u001B[39;49m\u001B[43mitem\u001B[49m\u001B[38;5;241;43m.\u001B[39;49m\u001B[43mkwargs\u001B[49m\u001B[43m)\u001B[49m\n\u001B[1;32m    294\u001B[0m \u001B[38;5;28;01mif\u001B[39;00m item\u001B[38;5;241m.\u001B[39minterval:\n\u001B[1;32m    295\u001B[0m \n\u001B[1;32m    296\u001B[0m     \u001B[38;5;66;03m# Try to keep timing regular, even if overslept this time;\u001B[39;00m\n\u001B[1;32m    297\u001B[0m     \u001B[38;5;66;03m# but don't schedule in the past (which could lead to\u001B[39;00m\n\u001B[1;32m    298\u001B[0m     \u001B[38;5;66;03m# infinitely-worsening error).\u001B[39;00m\n\u001B[1;32m    299\u001B[0m     item\u001B[38;5;241m.\u001B[39mnext_ts \u001B[38;5;241m=\u001B[39m item\u001B[38;5;241m.\u001B[39mlast_ts \u001B[38;5;241m+\u001B[39m item\u001B[38;5;241m.\u001B[39minterval\n",
      "File \u001B[0;32m~/PycharmProjects/3d_ant_analysis/src/visual_widget.py:149\u001B[0m, in \u001B[0;36mCombiViewer.callback\u001B[0;34m(self, dt)\u001B[0m\n\u001B[1;32m    146\u001B[0m \u001B[38;5;28;01mif\u001B[39;00m \u001B[38;5;28mself\u001B[39m\u001B[38;5;241m.\u001B[39manimal\u001B[38;5;241m.\u001B[39mcheck_frame_exist(\u001B[38;5;28mself\u001B[39m\u001B[38;5;241m.\u001B[39mframe_index):\n\u001B[1;32m    147\u001B[0m     \u001B[38;5;66;03m# Remove existing geometry from the scene\u001B[39;00m\n\u001B[1;32m    148\u001B[0m     \u001B[38;5;28mself\u001B[39m\u001B[38;5;241m.\u001B[39mscene_widget\u001B[38;5;241m.\u001B[39mdo_undraw()\n\u001B[0;32m--> 149\u001B[0m     animal_ray, animal_node \u001B[38;5;241m=\u001B[39m \u001B[38;5;28;43mself\u001B[39;49m\u001B[38;5;241;43m.\u001B[39;49m\u001B[43manimal\u001B[49m\u001B[38;5;241;43m.\u001B[39;49m\u001B[43mgenerate_geometry\u001B[49m\u001B[43m(\u001B[49m\u001B[43mframe_idx\u001B[49m\u001B[38;5;241;43m=\u001B[39;49m\u001B[38;5;28;43mself\u001B[39;49m\u001B[38;5;241;43m.\u001B[39;49m\u001B[43mframe_index\u001B[49m\u001B[43m)\u001B[49m\n\u001B[1;32m    151\u001B[0m     \u001B[38;5;66;03m#Replace the current scene with the scene created in the animal class\u001B[39;00m\n\u001B[1;32m    152\u001B[0m     \u001B[38;5;28mself\u001B[39m\u001B[38;5;241m.\u001B[39mscene_widget\u001B[38;5;241m.\u001B[39mscene\u001B[38;5;241m.\u001B[39madd_geometry(animal_ray, node_name\u001B[38;5;241m=\u001B[39m\u001B[38;5;124m\"\u001B[39m\u001B[38;5;124manimal_ray\u001B[39m\u001B[38;5;124m\"\u001B[39m, geom_name\u001B[38;5;241m=\u001B[39m\u001B[38;5;28mstr\u001B[39m(\u001B[38;5;28mself\u001B[39m\u001B[38;5;241m.\u001B[39mframe_index))\n",
      "File \u001B[0;32m~/PycharmProjects/3d_ant_analysis/src/animal.py:173\u001B[0m, in \u001B[0;36mAnimalStruct.generate_geometry\u001B[0;34m(self, frame_idx)\u001B[0m\n\u001B[1;32m    169\u001B[0m ray_destination \u001B[38;5;241m=\u001B[39m np\u001B[38;5;241m.\u001B[39marray([pose_ray_dict[link][\u001B[38;5;124m'\u001B[39m\u001B[38;5;124mdest\u001B[39m\u001B[38;5;124m'\u001B[39m] \u001B[38;5;28;01mfor\u001B[39;00m link \u001B[38;5;129;01min\u001B[39;00m pose_ray_dict\u001B[38;5;241m.\u001B[39mkeys()])\n\u001B[1;32m    170\u001B[0m ray_visualise \u001B[38;5;241m=\u001B[39m trimesh\u001B[38;5;241m.\u001B[39mload_path(\n\u001B[1;32m    171\u001B[0m     np\u001B[38;5;241m.\u001B[39mhstack((ray_origins, ray_destination))\u001B[38;5;241m.\u001B[39mreshape(\u001B[38;5;241m-\u001B[39m\u001B[38;5;241m1\u001B[39m, \u001B[38;5;241m2\u001B[39m, \u001B[38;5;241m3\u001B[39m)\n\u001B[1;32m    172\u001B[0m )\n\u001B[0;32m--> 173\u001B[0m nodes \u001B[38;5;241m=\u001B[39m \u001B[43mtrimesh\u001B[49m\u001B[38;5;241;43m.\u001B[39;49m\u001B[43mpoints\u001B[49m\u001B[38;5;241;43m.\u001B[39;49m\u001B[43mPointCloud\u001B[49m\u001B[43m(\u001B[49m\u001B[43mray_origins\u001B[49m\u001B[43m)\u001B[49m\n\u001B[1;32m    174\u001B[0m \u001B[38;5;66;03m# create a unique color for each point\u001B[39;00m\n\u001B[1;32m    175\u001B[0m cloud_colors \u001B[38;5;241m=\u001B[39m np\u001B[38;5;241m.\u001B[39marray([trimesh\u001B[38;5;241m.\u001B[39mvisual\u001B[38;5;241m.\u001B[39mrandom_color() \u001B[38;5;28;01mfor\u001B[39;00m i \u001B[38;5;129;01min\u001B[39;00m nodes])\n",
      "File \u001B[0;32m/opt/homebrew/Caskroom/miniforge/base/envs/3d_ant_analysis/lib/python3.8/site-packages/trimesh/points.py:431\u001B[0m, in \u001B[0;36mPointCloud.__init__\u001B[0;34m(self, vertices, colors, metadata, **kwargs)\u001B[0m\n\u001B[1;32m    428\u001B[0m     \u001B[38;5;28mself\u001B[39m\u001B[38;5;241m.\u001B[39mmetadata\u001B[38;5;241m.\u001B[39mupdate(metadata)\n\u001B[1;32m    430\u001B[0m \u001B[38;5;66;03m# load vertices\u001B[39;00m\n\u001B[0;32m--> 431\u001B[0m \u001B[38;5;28;43mself\u001B[39;49m\u001B[38;5;241;43m.\u001B[39;49m\u001B[43mvertices\u001B[49m \u001B[38;5;241m=\u001B[39m vertices\n\u001B[1;32m    433\u001B[0m \u001B[38;5;28;01mif\u001B[39;00m \u001B[38;5;124m'\u001B[39m\u001B[38;5;124mvertex_colors\u001B[39m\u001B[38;5;124m'\u001B[39m \u001B[38;5;129;01min\u001B[39;00m kwargs \u001B[38;5;129;01mand\u001B[39;00m colors \u001B[38;5;129;01mis\u001B[39;00m \u001B[38;5;28;01mNone\u001B[39;00m:\n\u001B[1;32m    434\u001B[0m     colors \u001B[38;5;241m=\u001B[39m kwargs[\u001B[38;5;124m'\u001B[39m\u001B[38;5;124mvertex_colors\u001B[39m\u001B[38;5;124m'\u001B[39m]\n",
      "File \u001B[0;32m/opt/homebrew/Caskroom/miniforge/base/envs/3d_ant_analysis/lib/python3.8/site-packages/trimesh/points.py:604\u001B[0m, in \u001B[0;36mPointCloud.vertices\u001B[0;34m(self, data)\u001B[0m\n\u001B[1;32m    602\u001B[0m data \u001B[38;5;241m=\u001B[39m np\u001B[38;5;241m.\u001B[39marray(data, dtype\u001B[38;5;241m=\u001B[39mnp\u001B[38;5;241m.\u001B[39mfloat64, copy\u001B[38;5;241m=\u001B[39m\u001B[38;5;28;01mTrue\u001B[39;00m)\n\u001B[1;32m    603\u001B[0m \u001B[38;5;28;01mif\u001B[39;00m \u001B[38;5;129;01mnot\u001B[39;00m util\u001B[38;5;241m.\u001B[39mis_shape(data, (\u001B[38;5;241m-\u001B[39m\u001B[38;5;241m1\u001B[39m, \u001B[38;5;241m3\u001B[39m)):\n\u001B[0;32m--> 604\u001B[0m     \u001B[38;5;28;01mraise\u001B[39;00m \u001B[38;5;167;01mValueError\u001B[39;00m(\u001B[38;5;124m'\u001B[39m\u001B[38;5;124mPoint clouds must be (n, 3)!\u001B[39m\u001B[38;5;124m'\u001B[39m)\n\u001B[1;32m    605\u001B[0m \u001B[38;5;28mself\u001B[39m\u001B[38;5;241m.\u001B[39m_data[\u001B[38;5;124m'\u001B[39m\u001B[38;5;124mvertices\u001B[39m\u001B[38;5;124m'\u001B[39m] \u001B[38;5;241m=\u001B[39m data\n",
      "\u001B[0;31mValueError\u001B[0m: Point clouds must be (n, 3)!"
     ]
    }
   ],
   "execution_count": 6
  }
 ],
 "metadata": {
  "kernelspec": {
   "display_name": "Python 3",
   "language": "python",
   "name": "python3"
  },
  "language_info": {
   "codemirror_mode": {
    "name": "ipython",
    "version": 2
   },
   "file_extension": ".py",
   "mimetype": "text/x-python",
   "name": "python",
   "nbconvert_exporter": "python",
   "pygments_lexer": "ipython2",
   "version": "2.7.6"
  }
 },
 "nbformat": 4,
 "nbformat_minor": 5
}
