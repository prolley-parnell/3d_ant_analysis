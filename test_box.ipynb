{
 "cells": [
  {
   "metadata": {
    "ExecuteTime": {
     "end_time": "2025-03-10T11:02:39.005065Z",
     "start_time": "2025-03-10T11:02:38.133567Z"
    }
   },
   "cell_type": "code",
   "source": [
    "from src.collision import CollisionDetector\n",
    "obj_folder = \"/Users/persie/PhD_Code/3d_ant_data_rle/240905-1616/outputs/segmentation\""
   ],
   "id": "e36171c42fbbc1bb",
   "outputs": [],
   "execution_count": 1
  },
  {
   "metadata": {
    "ExecuteTime": {
     "end_time": "2025-03-07T12:03:21.859766Z",
     "start_time": "2025-03-07T12:03:20.838048Z"
    }
   },
   "cell_type": "code",
   "source": "t = CollisionDetector(obj_folder=obj_folder, skeleton_toml_path=\"skeleton.toml\", pose_csv=\"./tracking/28/240905-1616_session28_track99_points3d.csv\")",
   "id": "ab59df64419acd93",
   "outputs": [
    {
     "name": "stderr",
     "output_type": "stream",
     "text": [
      "PosixPath('/Users/persie/PhD_Code/3d_ant_data_rle/240905-1616/outputs/segmentation/240905-1616_seed_session28.toml') generated an exception: File /Users/persie/PhD_Code/3d_ant_data_rle/240905-1616/outputs/segmentation/240905-1616_seed_session28.toml ignored, not .dae or .obj file\n",
      "PosixPath('/Users/persie/PhD_Code/3d_ant_data_rle/240905-1616/outputs/segmentation/.DS_Store') generated an exception: File /Users/persie/PhD_Code/3d_ant_data_rle/240905-1616/outputs/segmentation/.DS_Store ignored, not .dae or .obj file\n"
     ]
    }
   ],
   "execution_count": 3
  },
  {
   "metadata": {
    "ExecuteTime": {
     "end_time": "2025-03-10T11:04:52.067641Z",
     "start_time": "2025-03-10T11:04:51.527306Z"
    }
   },
   "cell_type": "code",
   "source": "t = CollisionDetector(obj_folder=obj_folder, skeleton_toml_path=\"skeleton.toml\", pose_csv=\"./tracking/28/240905-1616_session28_track99_points3d.csv\", obj_ref_frame=2599, obj_transform_toml=f\"{obj_folder}/240905-1616_seed_session28.toml\")",
   "id": "418da7b0e9a8bf50",
   "outputs": [],
   "execution_count": 6
  },
  {
   "metadata": {
    "ExecuteTime": {
     "end_time": "2025-03-10T11:05:07.504711Z",
     "start_time": "2025-03-10T11:04:53.751971Z"
    }
   },
   "cell_type": "code",
   "source": [
    "from src.visual_widget import MultiViewer\n",
    "V = MultiViewer([t.animal], [t.obj], 0)"
   ],
   "id": "e88ae344a64142e7",
   "outputs": [
    {
     "name": "stderr",
     "output_type": "stream",
     "text": [
      "ERROR:src.animal:No rays present for animal at frame 843\n",
      "ERROR:src.animal:No rays present for animal at frame 845\n",
      "ERROR:src.animal:No rays present for animal at frame 846\n",
      "ERROR:src.animal:No rays present for animal at frame 847\n",
      "ERROR:src.animal:No rays present for animal at frame 854\n",
      "ERROR:src.animal:No rays present for animal at frame 855\n",
      "ERROR:src.animal:No rays present for animal at frame 857\n",
      "ERROR:src.animal:No rays present for animal at frame 843\n",
      "ERROR:src.animal:No rays present for animal at frame 845\n",
      "ERROR:src.animal:No rays present for animal at frame 846\n",
      "ERROR:src.animal:No rays present for animal at frame 847\n",
      "ERROR:src.animal:No rays present for animal at frame 854\n",
      "ERROR:src.animal:No rays present for animal at frame 855\n",
      "ERROR:src.animal:No rays present for animal at frame 857\n"
     ]
    },
    {
     "ename": "AttributeError",
     "evalue": "'NoneType' object has no attribute 'object_space'",
     "output_type": "error",
     "traceback": [
      "\u001B[0;31m---------------------------------------------------------------------------\u001B[0m",
      "\u001B[0;31mAttributeError\u001B[0m                            Traceback (most recent call last)",
      "Cell \u001B[0;32mIn[7], line 2\u001B[0m\n\u001B[1;32m      1\u001B[0m \u001B[38;5;28;01mfrom\u001B[39;00m\u001B[38;5;250m \u001B[39m\u001B[38;5;21;01msrc\u001B[39;00m\u001B[38;5;21;01m.\u001B[39;00m\u001B[38;5;21;01mvisual_widget\u001B[39;00m\u001B[38;5;250m \u001B[39m\u001B[38;5;28;01mimport\u001B[39;00m MultiViewer\n\u001B[0;32m----> 2\u001B[0m V \u001B[38;5;241m=\u001B[39m \u001B[43mMultiViewer\u001B[49m\u001B[43m(\u001B[49m\u001B[43m[\u001B[49m\u001B[43mt\u001B[49m\u001B[38;5;241;43m.\u001B[39;49m\u001B[43manimal\u001B[49m\u001B[43m]\u001B[49m\u001B[43m,\u001B[49m\u001B[43m \u001B[49m\u001B[43m[\u001B[49m\u001B[43mt\u001B[49m\u001B[38;5;241;43m.\u001B[39;49m\u001B[43mobj\u001B[49m\u001B[43m]\u001B[49m\u001B[43m,\u001B[49m\u001B[43m \u001B[49m\u001B[38;5;241;43m0\u001B[39;49m\u001B[43m)\u001B[49m\n",
      "File \u001B[0;32m~/PycharmProjects/3d_ant_analysis/src/visual_widget.py:60\u001B[0m, in \u001B[0;36mMultiViewer.__init__\u001B[0;34m(self, animal_list, object_list, frame_index, auto_play)\u001B[0m\n\u001B[1;32m     57\u001B[0m     pyglet\u001B[38;5;241m.\u001B[39mclock\u001B[38;5;241m.\u001B[39mschedule_interval(\u001B[38;5;28mself\u001B[39m\u001B[38;5;241m.\u001B[39mcallback, \u001B[38;5;241m1.0\u001B[39m \u001B[38;5;241m/\u001B[39m \u001B[38;5;241m30\u001B[39m)\n\u001B[1;32m     59\u001B[0m \u001B[38;5;28mself\u001B[39m\u001B[38;5;241m.\u001B[39mscene_widget\u001B[38;5;241m.\u001B[39mdo_draw()\n\u001B[0;32m---> 60\u001B[0m \u001B[43mpyglet\u001B[49m\u001B[38;5;241;43m.\u001B[39;49m\u001B[43mapp\u001B[49m\u001B[38;5;241;43m.\u001B[39;49m\u001B[43mrun\u001B[49m\u001B[43m(\u001B[49m\u001B[43m)\u001B[49m\n",
      "File \u001B[0;32m~/PycharmProjects/3d_ant_analysis/.venv/lib/python3.12/site-packages/pyglet/app/__init__.py:107\u001B[0m, in \u001B[0;36mrun\u001B[0;34m()\u001B[0m\n\u001B[1;32m     99\u001B[0m \u001B[38;5;28;01mdef\u001B[39;00m\u001B[38;5;250m \u001B[39m\u001B[38;5;21mrun\u001B[39m():\n\u001B[1;32m    100\u001B[0m \u001B[38;5;250m    \u001B[39m\u001B[38;5;124;03m\"\"\"Begin processing events, scheduled functions and window updates.\u001B[39;00m\n\u001B[1;32m    101\u001B[0m \n\u001B[1;32m    102\u001B[0m \u001B[38;5;124;03m    This is a convenience function, equivalent to::\u001B[39;00m\n\u001B[0;32m   (...)\u001B[0m\n\u001B[1;32m    105\u001B[0m \n\u001B[1;32m    106\u001B[0m \u001B[38;5;124;03m    \"\"\"\u001B[39;00m\n\u001B[0;32m--> 107\u001B[0m     \u001B[43mevent_loop\u001B[49m\u001B[38;5;241;43m.\u001B[39;49m\u001B[43mrun\u001B[49m\u001B[43m(\u001B[49m\u001B[43m)\u001B[49m\n",
      "File \u001B[0;32m~/PycharmProjects/3d_ant_analysis/.venv/lib/python3.12/site-packages/pyglet/app/base.py:169\u001B[0m, in \u001B[0;36mEventLoop.run\u001B[0;34m(self)\u001B[0m\n\u001B[1;32m    166\u001B[0m \u001B[38;5;28mself\u001B[39m\u001B[38;5;241m.\u001B[39mis_running \u001B[38;5;241m=\u001B[39m \u001B[38;5;28;01mTrue\u001B[39;00m\n\u001B[1;32m    168\u001B[0m \u001B[38;5;28;01mwhile\u001B[39;00m \u001B[38;5;129;01mnot\u001B[39;00m \u001B[38;5;28mself\u001B[39m\u001B[38;5;241m.\u001B[39mhas_exit:\n\u001B[0;32m--> 169\u001B[0m     timeout \u001B[38;5;241m=\u001B[39m \u001B[38;5;28;43mself\u001B[39;49m\u001B[38;5;241;43m.\u001B[39;49m\u001B[43midle\u001B[49m\u001B[43m(\u001B[49m\u001B[43m)\u001B[49m\n\u001B[1;32m    170\u001B[0m     platform_event_loop\u001B[38;5;241m.\u001B[39mstep(timeout)\n\u001B[1;32m    172\u001B[0m \u001B[38;5;28mself\u001B[39m\u001B[38;5;241m.\u001B[39mis_running \u001B[38;5;241m=\u001B[39m \u001B[38;5;28;01mFalse\u001B[39;00m\n",
      "File \u001B[0;32m~/PycharmProjects/3d_ant_analysis/.venv/lib/python3.12/site-packages/pyglet/app/base.py:239\u001B[0m, in \u001B[0;36mEventLoop.idle\u001B[0;34m(self)\u001B[0m\n\u001B[1;32m    214\u001B[0m \u001B[38;5;250m\u001B[39m\u001B[38;5;124;03m\"\"\"Called during each iteration of the event loop.\u001B[39;00m\n\u001B[1;32m    215\u001B[0m \n\u001B[1;32m    216\u001B[0m \u001B[38;5;124;03mThe method is called immediately after any window events (i.e., after\u001B[39;00m\n\u001B[0;32m   (...)\u001B[0m\n\u001B[1;32m    236\u001B[0m \u001B[38;5;124;03m    be called again, or `None` to block for user input.\u001B[39;00m\n\u001B[1;32m    237\u001B[0m \u001B[38;5;124;03m\"\"\"\u001B[39;00m\n\u001B[1;32m    238\u001B[0m dt \u001B[38;5;241m=\u001B[39m \u001B[38;5;28mself\u001B[39m\u001B[38;5;241m.\u001B[39mclock\u001B[38;5;241m.\u001B[39mupdate_time()\n\u001B[0;32m--> 239\u001B[0m redraw_all \u001B[38;5;241m=\u001B[39m \u001B[38;5;28;43mself\u001B[39;49m\u001B[38;5;241;43m.\u001B[39;49m\u001B[43mclock\u001B[49m\u001B[38;5;241;43m.\u001B[39;49m\u001B[43mcall_scheduled_functions\u001B[49m\u001B[43m(\u001B[49m\u001B[43mdt\u001B[49m\u001B[43m)\u001B[49m\n\u001B[1;32m    241\u001B[0m \u001B[38;5;66;03m# Redraw all windows\u001B[39;00m\n\u001B[1;32m    242\u001B[0m \u001B[38;5;28;01mfor\u001B[39;00m window \u001B[38;5;129;01min\u001B[39;00m app\u001B[38;5;241m.\u001B[39mwindows:\n",
      "File \u001B[0;32m~/PycharmProjects/3d_ant_analysis/.venv/lib/python3.12/site-packages/pyglet/clock.py:292\u001B[0m, in \u001B[0;36mClock.call_scheduled_functions\u001B[0;34m(self, dt)\u001B[0m\n\u001B[1;32m    289\u001B[0m     \u001B[38;5;28;01mbreak\u001B[39;00m\n\u001B[1;32m    291\u001B[0m \u001B[38;5;66;03m# execute the callback\u001B[39;00m\n\u001B[0;32m--> 292\u001B[0m \u001B[43mitem\u001B[49m\u001B[38;5;241;43m.\u001B[39;49m\u001B[43mfunc\u001B[49m\u001B[43m(\u001B[49m\u001B[43mnow\u001B[49m\u001B[43m \u001B[49m\u001B[38;5;241;43m-\u001B[39;49m\u001B[43m \u001B[49m\u001B[43mitem\u001B[49m\u001B[38;5;241;43m.\u001B[39;49m\u001B[43mlast_ts\u001B[49m\u001B[43m,\u001B[49m\u001B[43m \u001B[49m\u001B[38;5;241;43m*\u001B[39;49m\u001B[43mitem\u001B[49m\u001B[38;5;241;43m.\u001B[39;49m\u001B[43margs\u001B[49m\u001B[43m,\u001B[49m\u001B[43m \u001B[49m\u001B[38;5;241;43m*\u001B[39;49m\u001B[38;5;241;43m*\u001B[39;49m\u001B[43mitem\u001B[49m\u001B[38;5;241;43m.\u001B[39;49m\u001B[43mkwargs\u001B[49m\u001B[43m)\u001B[49m\n\u001B[1;32m    294\u001B[0m \u001B[38;5;28;01mif\u001B[39;00m item\u001B[38;5;241m.\u001B[39minterval:\n\u001B[1;32m    295\u001B[0m \n\u001B[1;32m    296\u001B[0m     \u001B[38;5;66;03m# Try to keep timing regular, even if overslept this time;\u001B[39;00m\n\u001B[1;32m    297\u001B[0m     \u001B[38;5;66;03m# but don't schedule in the past (which could lead to\u001B[39;00m\n\u001B[1;32m    298\u001B[0m     \u001B[38;5;66;03m# infinitely-worsening error).\u001B[39;00m\n\u001B[1;32m    299\u001B[0m     item\u001B[38;5;241m.\u001B[39mnext_ts \u001B[38;5;241m=\u001B[39m item\u001B[38;5;241m.\u001B[39mlast_ts \u001B[38;5;241m+\u001B[39m item\u001B[38;5;241m.\u001B[39minterval\n",
      "File \u001B[0;32m~/PycharmProjects/3d_ant_analysis/src/visual_widget.py:108\u001B[0m, in \u001B[0;36mMultiViewer.callback\u001B[0;34m(self, dt)\u001B[0m\n\u001B[1;32m    105\u001B[0m \u001B[38;5;28;01mdef\u001B[39;00m\u001B[38;5;250m \u001B[39m\u001B[38;5;21mcallback\u001B[39m(\u001B[38;5;28mself\u001B[39m, dt):\n\u001B[1;32m    106\u001B[0m     \u001B[38;5;66;03m#Update the frame counter\u001B[39;00m\n\u001B[1;32m    107\u001B[0m     \u001B[38;5;28mself\u001B[39m\u001B[38;5;241m.\u001B[39mframe_index \u001B[38;5;241m=\u001B[39m \u001B[38;5;28mmax\u001B[39m((\u001B[38;5;28mself\u001B[39m\u001B[38;5;241m.\u001B[39mframe_index \u001B[38;5;241m+\u001B[39m \u001B[38;5;241m1\u001B[39m) \u001B[38;5;241m%\u001B[39m \u001B[38;5;28mself\u001B[39m\u001B[38;5;241m.\u001B[39mframe_range[\u001B[38;5;241m1\u001B[39m], \u001B[38;5;28mself\u001B[39m\u001B[38;5;241m.\u001B[39mframe_range[\u001B[38;5;241m0\u001B[39m])\n\u001B[0;32m--> 108\u001B[0m     \u001B[38;5;28;43mself\u001B[39;49m\u001B[38;5;241;43m.\u001B[39;49m\u001B[43mlabel\u001B[49m\u001B[38;5;241;43m.\u001B[39;49m\u001B[43mtext\u001B[49m \u001B[38;5;241m=\u001B[39m \u001B[38;5;124m\"\u001B[39m\u001B[38;5;124mFrame: \u001B[39m\u001B[38;5;124m\"\u001B[39m \u001B[38;5;241m+\u001B[39m \u001B[38;5;28mstr\u001B[39m(\u001B[38;5;28mself\u001B[39m\u001B[38;5;241m.\u001B[39mframe_index)\n\u001B[1;32m    109\u001B[0m     \u001B[38;5;28mself\u001B[39m\u001B[38;5;241m.\u001B[39mscene_widget\u001B[38;5;241m.\u001B[39mdo_undraw()\n\u001B[1;32m    110\u001B[0m     \u001B[38;5;28mself\u001B[39m\u001B[38;5;241m.\u001B[39mscene_widget\u001B[38;5;241m.\u001B[39mscene \u001B[38;5;241m=\u001B[39m \u001B[38;5;28mself\u001B[39m\u001B[38;5;241m.\u001B[39mupdate_obj(\u001B[38;5;28mself\u001B[39m\u001B[38;5;241m.\u001B[39mscene_widget\u001B[38;5;241m.\u001B[39mscene, \u001B[38;5;28mself\u001B[39m\u001B[38;5;241m.\u001B[39mobject_list, \u001B[38;5;28mself\u001B[39m\u001B[38;5;241m.\u001B[39mframe_index)\n",
      "File \u001B[0;32m~/PycharmProjects/3d_ant_analysis/.venv/lib/python3.12/site-packages/pyglet/text/__init__.py:289\u001B[0m, in \u001B[0;36mDocumentLabel.text\u001B[0;34m(self, text)\u001B[0m\n\u001B[1;32m    287\u001B[0m \u001B[38;5;129m@text\u001B[39m\u001B[38;5;241m.\u001B[39msetter\n\u001B[1;32m    288\u001B[0m \u001B[38;5;28;01mdef\u001B[39;00m\u001B[38;5;250m \u001B[39m\u001B[38;5;21mtext\u001B[39m(\u001B[38;5;28mself\u001B[39m, text):\n\u001B[0;32m--> 289\u001B[0m     \u001B[38;5;28;43mself\u001B[39;49m\u001B[38;5;241;43m.\u001B[39;49m\u001B[43mdocument\u001B[49m\u001B[38;5;241;43m.\u001B[39;49m\u001B[43mtext\u001B[49m \u001B[38;5;241m=\u001B[39m text\n",
      "File \u001B[0;32m~/PycharmProjects/3d_ant_analysis/.venv/lib/python3.12/site-packages/pyglet/text/document.py:294\u001B[0m, in \u001B[0;36mAbstractDocument.text\u001B[0;34m(self, text)\u001B[0m\n\u001B[1;32m    292\u001B[0m     \u001B[38;5;28;01mreturn\u001B[39;00m\n\u001B[1;32m    293\u001B[0m \u001B[38;5;28mself\u001B[39m\u001B[38;5;241m.\u001B[39mdelete_text(\u001B[38;5;241m0\u001B[39m, \u001B[38;5;28mlen\u001B[39m(\u001B[38;5;28mself\u001B[39m\u001B[38;5;241m.\u001B[39m_text))\n\u001B[0;32m--> 294\u001B[0m \u001B[38;5;28;43mself\u001B[39;49m\u001B[38;5;241;43m.\u001B[39;49m\u001B[43minsert_text\u001B[49m\u001B[43m(\u001B[49m\u001B[38;5;241;43m0\u001B[39;49m\u001B[43m,\u001B[49m\u001B[43m \u001B[49m\u001B[43mtext\u001B[49m\u001B[43m)\u001B[49m\n",
      "File \u001B[0;32m~/PycharmProjects/3d_ant_analysis/.venv/lib/python3.12/site-packages/pyglet/text/document.py:425\u001B[0m, in \u001B[0;36mAbstractDocument.insert_text\u001B[0;34m(self, start, text, attributes)\u001B[0m\n\u001B[1;32m    412\u001B[0m \u001B[38;5;250m\u001B[39m\u001B[38;5;124;03m\"\"\"Insert text into the document.\u001B[39;00m\n\u001B[1;32m    413\u001B[0m \n\u001B[1;32m    414\u001B[0m \u001B[38;5;124;03m:Parameters:\u001B[39;00m\n\u001B[0;32m   (...)\u001B[0m\n\u001B[1;32m    422\u001B[0m \n\u001B[1;32m    423\u001B[0m \u001B[38;5;124;03m\"\"\"\u001B[39;00m\n\u001B[1;32m    424\u001B[0m \u001B[38;5;28mself\u001B[39m\u001B[38;5;241m.\u001B[39m_insert_text(start, text, attributes)\n\u001B[0;32m--> 425\u001B[0m \u001B[38;5;28;43mself\u001B[39;49m\u001B[38;5;241;43m.\u001B[39;49m\u001B[43mdispatch_event\u001B[49m\u001B[43m(\u001B[49m\u001B[38;5;124;43m'\u001B[39;49m\u001B[38;5;124;43mon_insert_text\u001B[39;49m\u001B[38;5;124;43m'\u001B[39;49m\u001B[43m,\u001B[49m\u001B[43m \u001B[49m\u001B[43mstart\u001B[49m\u001B[43m,\u001B[49m\u001B[43m \u001B[49m\u001B[43mtext\u001B[49m\u001B[43m)\u001B[49m\n",
      "File \u001B[0;32m~/PycharmProjects/3d_ant_analysis/.venv/lib/python3.12/site-packages/pyglet/event.py:408\u001B[0m, in \u001B[0;36mEventDispatcher.dispatch_event\u001B[0;34m(self, event_type, *args)\u001B[0m\n\u001B[1;32m    406\u001B[0m \u001B[38;5;28;01mtry\u001B[39;00m:\n\u001B[1;32m    407\u001B[0m     invoked \u001B[38;5;241m=\u001B[39m \u001B[38;5;28;01mTrue\u001B[39;00m\n\u001B[0;32m--> 408\u001B[0m     \u001B[38;5;28;01mif\u001B[39;00m \u001B[43mhandler\u001B[49m\u001B[43m(\u001B[49m\u001B[38;5;241;43m*\u001B[39;49m\u001B[43margs\u001B[49m\u001B[43m)\u001B[49m:\n\u001B[1;32m    409\u001B[0m         \u001B[38;5;28;01mreturn\u001B[39;00m EVENT_HANDLED\n\u001B[1;32m    410\u001B[0m \u001B[38;5;28;01mexcept\u001B[39;00m \u001B[38;5;167;01mTypeError\u001B[39;00m \u001B[38;5;28;01mas\u001B[39;00m exception:\n",
      "File \u001B[0;32m~/PycharmProjects/3d_ant_analysis/.venv/lib/python3.12/site-packages/pyglet/text/layout.py:1348\u001B[0m, in \u001B[0;36mTextLayout.on_insert_text\u001B[0;34m(self, start, text)\u001B[0m\n\u001B[1;32m   1342\u001B[0m \u001B[38;5;250m\u001B[39m\u001B[38;5;124;03m\"\"\"Event handler for `AbstractDocument.on_insert_text`.\u001B[39;00m\n\u001B[1;32m   1343\u001B[0m \n\u001B[1;32m   1344\u001B[0m \u001B[38;5;124;03mThe event handler is bound by the text layout; there is no need for\u001B[39;00m\n\u001B[1;32m   1345\u001B[0m \u001B[38;5;124;03mapplications to interact with this method.\u001B[39;00m\n\u001B[1;32m   1346\u001B[0m \u001B[38;5;124;03m\"\"\"\u001B[39;00m\n\u001B[1;32m   1347\u001B[0m \u001B[38;5;28;01mif\u001B[39;00m \u001B[38;5;28mself\u001B[39m\u001B[38;5;241m.\u001B[39m_visible:\n\u001B[0;32m-> 1348\u001B[0m     \u001B[38;5;28;43mself\u001B[39;49m\u001B[38;5;241;43m.\u001B[39;49m\u001B[43m_init_document\u001B[49m\u001B[43m(\u001B[49m\u001B[43m)\u001B[49m\n\u001B[1;32m   1349\u001B[0m \u001B[38;5;28;01melse\u001B[39;00m:\n\u001B[1;32m   1350\u001B[0m     \u001B[38;5;28;01mif\u001B[39;00m \u001B[38;5;28mself\u001B[39m\u001B[38;5;241m.\u001B[39mdocument\u001B[38;5;241m.\u001B[39mtext:\n\u001B[1;32m   1351\u001B[0m         \u001B[38;5;66;03m# Update content width and height, since text may change while hidden.\u001B[39;00m\n",
      "File \u001B[0;32m~/PycharmProjects/3d_ant_analysis/.venv/lib/python3.12/site-packages/pyglet/text/layout.py:1336\u001B[0m, in \u001B[0;36mTextLayout._init_document\u001B[0;34m(self)\u001B[0m\n\u001B[1;32m   1335\u001B[0m \u001B[38;5;28;01mdef\u001B[39;00m\u001B[38;5;250m \u001B[39m\u001B[38;5;21m_init_document\u001B[39m(\u001B[38;5;28mself\u001B[39m):\n\u001B[0;32m-> 1336\u001B[0m     \u001B[38;5;28;43mself\u001B[39;49m\u001B[38;5;241;43m.\u001B[39;49m\u001B[43m_update\u001B[49m\u001B[43m(\u001B[49m\u001B[43m)\u001B[49m\n",
      "File \u001B[0;32m~/PycharmProjects/3d_ant_analysis/.venv/lib/python3.12/site-packages/pyglet/text/layout.py:1247\u001B[0m, in \u001B[0;36mTextLayout._update\u001B[0;34m(self)\u001B[0m\n\u001B[1;32m   1244\u001B[0m \u001B[38;5;28;01mif\u001B[39;00m \u001B[38;5;129;01mnot\u001B[39;00m \u001B[38;5;28mself\u001B[39m\u001B[38;5;241m.\u001B[39m_document \u001B[38;5;129;01mor\u001B[39;00m \u001B[38;5;129;01mnot\u001B[39;00m \u001B[38;5;28mself\u001B[39m\u001B[38;5;241m.\u001B[39m_document\u001B[38;5;241m.\u001B[39mtext:\n\u001B[1;32m   1245\u001B[0m     \u001B[38;5;28;01mreturn\u001B[39;00m\n\u001B[0;32m-> 1247\u001B[0m lines \u001B[38;5;241m=\u001B[39m \u001B[38;5;28;43mself\u001B[39;49m\u001B[38;5;241;43m.\u001B[39;49m\u001B[43m_get_lines\u001B[49m\u001B[43m(\u001B[49m\u001B[43m)\u001B[49m\n\u001B[1;32m   1249\u001B[0m colors_iter \u001B[38;5;241m=\u001B[39m \u001B[38;5;28mself\u001B[39m\u001B[38;5;241m.\u001B[39m_document\u001B[38;5;241m.\u001B[39mget_style_runs(\u001B[38;5;124m'\u001B[39m\u001B[38;5;124mcolor\u001B[39m\u001B[38;5;124m'\u001B[39m)\n\u001B[1;32m   1250\u001B[0m background_iter \u001B[38;5;241m=\u001B[39m \u001B[38;5;28mself\u001B[39m\u001B[38;5;241m.\u001B[39m_document\u001B[38;5;241m.\u001B[39mget_style_runs(\u001B[38;5;124m'\u001B[39m\u001B[38;5;124mbackground_color\u001B[39m\u001B[38;5;124m'\u001B[39m)\n",
      "File \u001B[0;32m~/PycharmProjects/3d_ant_analysis/.venv/lib/python3.12/site-packages/pyglet/text/layout.py:1224\u001B[0m, in \u001B[0;36mTextLayout._get_lines\u001B[0;34m(self)\u001B[0m\n\u001B[1;32m   1222\u001B[0m \u001B[38;5;28;01mdef\u001B[39;00m\u001B[38;5;250m \u001B[39m\u001B[38;5;21m_get_lines\u001B[39m(\u001B[38;5;28mself\u001B[39m):\n\u001B[1;32m   1223\u001B[0m     len_text \u001B[38;5;241m=\u001B[39m \u001B[38;5;28mlen\u001B[39m(\u001B[38;5;28mself\u001B[39m\u001B[38;5;241m.\u001B[39m_document\u001B[38;5;241m.\u001B[39mtext)\n\u001B[0;32m-> 1224\u001B[0m     glyphs \u001B[38;5;241m=\u001B[39m \u001B[38;5;28;43mself\u001B[39;49m\u001B[38;5;241;43m.\u001B[39;49m\u001B[43m_get_glyphs\u001B[49m\u001B[43m(\u001B[49m\u001B[43m)\u001B[49m\n\u001B[1;32m   1225\u001B[0m     owner_runs \u001B[38;5;241m=\u001B[39m runlist\u001B[38;5;241m.\u001B[39mRunList(len_text, \u001B[38;5;28;01mNone\u001B[39;00m)\n\u001B[1;32m   1226\u001B[0m     \u001B[38;5;28mself\u001B[39m\u001B[38;5;241m.\u001B[39m_get_owner_runs(owner_runs, glyphs, \u001B[38;5;241m0\u001B[39m, len_text)\n",
      "File \u001B[0;32m~/PycharmProjects/3d_ant_analysis/.venv/lib/python3.12/site-packages/pyglet/text/layout.py:1377\u001B[0m, in \u001B[0;36mTextLayout._get_glyphs\u001B[0;34m(self)\u001B[0m\n\u001B[1;32m   1374\u001B[0m \u001B[38;5;28;01mdef\u001B[39;00m\u001B[38;5;250m \u001B[39m\u001B[38;5;21m_get_glyphs\u001B[39m(\u001B[38;5;28mself\u001B[39m):\n\u001B[1;32m   1375\u001B[0m     glyphs \u001B[38;5;241m=\u001B[39m []\n\u001B[1;32m   1376\u001B[0m     runs \u001B[38;5;241m=\u001B[39m runlist\u001B[38;5;241m.\u001B[39mZipRunIterator((\n\u001B[0;32m-> 1377\u001B[0m         \u001B[38;5;28;43mself\u001B[39;49m\u001B[38;5;241;43m.\u001B[39;49m\u001B[43m_document\u001B[49m\u001B[38;5;241;43m.\u001B[39;49m\u001B[43mget_font_runs\u001B[49m\u001B[43m(\u001B[49m\u001B[43mdpi\u001B[49m\u001B[38;5;241;43m=\u001B[39;49m\u001B[38;5;28;43mself\u001B[39;49m\u001B[38;5;241;43m.\u001B[39;49m\u001B[43m_dpi\u001B[49m\u001B[43m)\u001B[49m,\n\u001B[1;32m   1378\u001B[0m         \u001B[38;5;28mself\u001B[39m\u001B[38;5;241m.\u001B[39m_document\u001B[38;5;241m.\u001B[39mget_element_runs()))\n\u001B[1;32m   1379\u001B[0m     text \u001B[38;5;241m=\u001B[39m \u001B[38;5;28mself\u001B[39m\u001B[38;5;241m.\u001B[39m_document\u001B[38;5;241m.\u001B[39mtext\n\u001B[1;32m   1380\u001B[0m     \u001B[38;5;28;01mfor\u001B[39;00m start, end, (font, element) \u001B[38;5;129;01min\u001B[39;00m runs\u001B[38;5;241m.\u001B[39mranges(\u001B[38;5;241m0\u001B[39m, \u001B[38;5;28mlen\u001B[39m(text)):\n",
      "File \u001B[0;32m~/PycharmProjects/3d_ant_analysis/.venv/lib/python3.12/site-packages/pyglet/text/document.py:607\u001B[0m, in \u001B[0;36mUnformattedDocument.get_font_runs\u001B[0;34m(self, dpi)\u001B[0m\n\u001B[1;32m    606\u001B[0m \u001B[38;5;28;01mdef\u001B[39;00m\u001B[38;5;250m \u001B[39m\u001B[38;5;21mget_font_runs\u001B[39m(\u001B[38;5;28mself\u001B[39m, dpi\u001B[38;5;241m=\u001B[39m\u001B[38;5;28;01mNone\u001B[39;00m):\n\u001B[0;32m--> 607\u001B[0m     ft \u001B[38;5;241m=\u001B[39m \u001B[38;5;28;43mself\u001B[39;49m\u001B[38;5;241;43m.\u001B[39;49m\u001B[43mget_font\u001B[49m\u001B[43m(\u001B[49m\u001B[43mdpi\u001B[49m\u001B[38;5;241;43m=\u001B[39;49m\u001B[43mdpi\u001B[49m\u001B[43m)\u001B[49m\n\u001B[1;32m    608\u001B[0m     \u001B[38;5;28;01mreturn\u001B[39;00m runlist\u001B[38;5;241m.\u001B[39mConstRunIterator(\u001B[38;5;28mlen\u001B[39m(\u001B[38;5;28mself\u001B[39m\u001B[38;5;241m.\u001B[39mtext), ft)\n",
      "File \u001B[0;32m~/PycharmProjects/3d_ant_analysis/.venv/lib/python3.12/site-packages/pyglet/text/document.py:617\u001B[0m, in \u001B[0;36mUnformattedDocument.get_font\u001B[0;34m(self, position, dpi)\u001B[0m\n\u001B[1;32m    615\u001B[0m italic \u001B[38;5;241m=\u001B[39m \u001B[38;5;28mself\u001B[39m\u001B[38;5;241m.\u001B[39mstyles\u001B[38;5;241m.\u001B[39mget(\u001B[38;5;124m'\u001B[39m\u001B[38;5;124mitalic\u001B[39m\u001B[38;5;124m'\u001B[39m, \u001B[38;5;28;01mFalse\u001B[39;00m)\n\u001B[1;32m    616\u001B[0m stretch \u001B[38;5;241m=\u001B[39m \u001B[38;5;28mself\u001B[39m\u001B[38;5;241m.\u001B[39mstyles\u001B[38;5;241m.\u001B[39mget(\u001B[38;5;124m'\u001B[39m\u001B[38;5;124mstretch\u001B[39m\u001B[38;5;124m'\u001B[39m, \u001B[38;5;28;01mFalse\u001B[39;00m)\n\u001B[0;32m--> 617\u001B[0m \u001B[38;5;28;01mreturn\u001B[39;00m \u001B[43mfont\u001B[49m\u001B[38;5;241;43m.\u001B[39;49m\u001B[43mload\u001B[49m\u001B[43m(\u001B[49m\u001B[43mfont_name\u001B[49m\u001B[43m,\u001B[49m\u001B[43m \u001B[49m\u001B[43mfont_size\u001B[49m\u001B[43m,\u001B[49m\n\u001B[1;32m    618\u001B[0m \u001B[43m                 \u001B[49m\u001B[43mbold\u001B[49m\u001B[38;5;241;43m=\u001B[39;49m\u001B[43mbold\u001B[49m\u001B[43m,\u001B[49m\u001B[43m \u001B[49m\u001B[43mitalic\u001B[49m\u001B[38;5;241;43m=\u001B[39;49m\u001B[43mitalic\u001B[49m\u001B[43m,\u001B[49m\u001B[43m \u001B[49m\u001B[43mstretch\u001B[49m\u001B[38;5;241;43m=\u001B[39;49m\u001B[43mstretch\u001B[49m\u001B[43m,\u001B[49m\u001B[43m \u001B[49m\u001B[43mdpi\u001B[49m\u001B[38;5;241;43m=\u001B[39;49m\u001B[43mdpi\u001B[49m\u001B[43m)\u001B[49m\n",
      "File \u001B[0;32m~/PycharmProjects/3d_ant_analysis/.venv/lib/python3.12/site-packages/pyglet/font/__init__.py:131\u001B[0m, in \u001B[0;36mload\u001B[0;34m(name, size, bold, italic, stretch, dpi)\u001B[0m\n\u001B[1;32m    128\u001B[0m         name \u001B[38;5;241m=\u001B[39m \u001B[38;5;28;01mNone\u001B[39;00m\n\u001B[1;32m    130\u001B[0m \u001B[38;5;66;03m# Locate or create font cache\u001B[39;00m\n\u001B[0;32m--> 131\u001B[0m shared_object_space \u001B[38;5;241m=\u001B[39m \u001B[43mgl\u001B[49m\u001B[38;5;241;43m.\u001B[39;49m\u001B[43mcurrent_context\u001B[49m\u001B[38;5;241;43m.\u001B[39;49m\u001B[43mobject_space\u001B[49m\n\u001B[1;32m    132\u001B[0m \u001B[38;5;28;01mif\u001B[39;00m \u001B[38;5;129;01mnot\u001B[39;00m \u001B[38;5;28mhasattr\u001B[39m(shared_object_space, \u001B[38;5;124m'\u001B[39m\u001B[38;5;124mpyglet_font_font_cache\u001B[39m\u001B[38;5;124m'\u001B[39m):\n\u001B[1;32m    133\u001B[0m     shared_object_space\u001B[38;5;241m.\u001B[39mpyglet_font_font_cache \u001B[38;5;241m=\u001B[39m weakref\u001B[38;5;241m.\u001B[39mWeakValueDictionary()\n",
      "\u001B[0;31mAttributeError\u001B[0m: 'NoneType' object has no attribute 'object_space'"
     ]
    }
   ],
   "execution_count": 7
  },
  {
   "metadata": {},
   "cell_type": "code",
   "source": "V.scene_widget.scene.graph.show()",
   "id": "984cd47b513f648a",
   "outputs": [],
   "execution_count": null
  }
 ],
 "metadata": {
  "kernelspec": {
   "display_name": "Python 3",
   "language": "python",
   "name": "python3"
  },
  "language_info": {
   "codemirror_mode": {
    "name": "ipython",
    "version": 2
   },
   "file_extension": ".py",
   "mimetype": "text/x-python",
   "name": "python",
   "nbconvert_exporter": "python",
   "pygments_lexer": "ipython2",
   "version": "2.7.6"
  }
 },
 "nbformat": 4,
 "nbformat_minor": 5
}
