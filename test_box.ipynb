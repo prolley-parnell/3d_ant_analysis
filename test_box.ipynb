{
 "cells": [
  {
   "metadata": {
    "ExecuteTime": {
     "end_time": "2025-02-12T16:42:10.134396Z",
     "start_time": "2025-02-12T16:42:10.129773Z"
    }
   },
   "cell_type": "code",
   "source": "names = ['thorax', 'neck', 'a_L1', 'a_L2', 'a_R1', 'a_R2', 'leg_f_L1', 'leg_f_L2', 'leg_f_R1', 'leg_f_R2', 'leg_m_L1', 'leg_m_L2', 'leg_m_R1', 'leg_m_R2', 'a_R0', 'a_L0', 'leg_f_R0', 'leg_f_L0', 'leg_m_R0', 'leg_m_L0', 'eye_L', 'eye_R', 'm_L0', 'm_R0', 'm_L1', 'm_R1']",
   "id": "43f20774704852b",
   "outputs": [],
   "execution_count": 4
  },
  {
   "metadata": {
    "ExecuteTime": {
     "end_time": "2025-02-17T15:13:03.548983Z",
     "start_time": "2025-02-17T15:12:52.610088Z"
    }
   },
   "cell_type": "code",
   "source": [
    "from src.collision import CollisionDetector\n",
    "# t = CollisionDetector(obj_folder=\"./example_obj_folder/\", skeleton_json_path=\"\", pose_csv=\"ant_3d.csv\")\n",
    "t = CollisionDetector(obj_folder=\"./example_obj_folder/seed/\", skeleton_json_path=\"\", pose_csv=\"1616_session28_ant_3d_WITHFRAMES.csv\")\n"
   ],
   "id": "ab59df64419acd93",
   "outputs": [
    {
     "name": "stderr",
     "output_type": "stream",
     "text": [
      "'seed_1121.obj' generated an exception: Mesh ./example_obj_folder/seed/seed_1121.obj ignored, file empty\n",
      "'seed_1122.obj' generated an exception: Mesh ./example_obj_folder/seed/seed_1122.obj ignored, file empty\n",
      "'seed_1269.obj' generated an exception: Mesh ./example_obj_folder/seed/seed_1269.obj ignored, file empty\n",
      "'seed_1123.obj' generated an exception: Mesh ./example_obj_folder/seed/seed_1123.obj ignored, file empty\n",
      "'seed_1133.obj' generated an exception: Mesh ./example_obj_folder/seed/seed_1133.obj ignored, file empty\n",
      "'seed_1118.obj' generated an exception: Mesh ./example_obj_folder/seed/seed_1118.obj ignored, file empty\n",
      "'seed_1131.obj' generated an exception: Mesh ./example_obj_folder/seed/seed_1131.obj ignored, file empty\n",
      "'seed_1128.obj' generated an exception: Mesh ./example_obj_folder/seed/seed_1128.obj ignored, file empty\n",
      "'seed_1263.obj' generated an exception: Mesh ./example_obj_folder/seed/seed_1263.obj ignored, file empty\n",
      "'seed_1129.obj' generated an exception: Mesh ./example_obj_folder/seed/seed_1129.obj ignored, file empty\n",
      "'seed_1261.obj' generated an exception: Mesh ./example_obj_folder/seed/seed_1261.obj ignored, file empty\n",
      "'seed_1260.obj' generated an exception: Mesh ./example_obj_folder/seed/seed_1260.obj ignored, file empty\n",
      "'seed_1265.obj' generated an exception: Mesh ./example_obj_folder/seed/seed_1265.obj ignored, file empty\n",
      "'seed_1271.obj' generated an exception: Mesh ./example_obj_folder/seed/seed_1271.obj ignored, file empty\n",
      "'seed_1267.obj' generated an exception: Mesh ./example_obj_folder/seed/seed_1267.obj ignored, file empty\n",
      "'seed_1266.obj' generated an exception: Mesh ./example_obj_folder/seed/seed_1266.obj ignored, file empty\n"
     ]
    }
   ],
   "execution_count": 1
  },
  {
   "metadata": {
    "ExecuteTime": {
     "end_time": "2025-02-17T15:14:01.173101Z",
     "start_time": "2025-02-17T15:13:03.696885Z"
    }
   },
   "cell_type": "code",
   "source": [
    "from src.visual_widget import Viewer\n",
    "V = Viewer(t.animal, t.obj, 1000)"
   ],
   "id": "e88ae344a64142e7",
   "outputs": [
    {
     "name": "stderr",
     "output_type": "stream",
     "text": [
      "2025-02-17 15:13:04.053 python[57410:21841582] +[IMKClient subclass]: chose IMKClient_Modern\n",
      "2025-02-17 15:13:04.093 python[57410:21841582] +[IMKInputSession subclass]: chose IMKInputSession_Modern\n"
     ]
    }
   ],
   "execution_count": 2
  },
  {
   "metadata": {
    "ExecuteTime": {
     "end_time": "2025-02-12T17:50:00.439322Z",
     "start_time": "2025-02-12T17:50:00.436901Z"
    }
   },
   "cell_type": "code",
   "source": [
    "for i in range(1222, 1, 3444):\n",
    "    sce = t.visualise_collision(i)\n",
    "    if sce is not None:\n",
    "        sce.show()"
   ],
   "id": "693fa50acf5d0073",
   "outputs": [],
   "execution_count": 4
  },
  {
   "metadata": {
    "ExecuteTime": {
     "end_time": "2025-02-17T13:22:53.130887Z",
     "start_time": "2025-02-17T13:22:53.095530Z"
    }
   },
   "cell_type": "code",
   "source": "V.scene_widget.scene.graph.show()",
   "id": "984cd47b513f648a",
   "outputs": [
    {
     "ename": "NameError",
     "evalue": "name 'V' is not defined",
     "output_type": "error",
     "traceback": [
      "\u001B[0;31m---------------------------------------------------------------------------\u001B[0m",
      "\u001B[0;31mNameError\u001B[0m                                 Traceback (most recent call last)",
      "Cell \u001B[0;32mIn[4], line 1\u001B[0m\n\u001B[0;32m----> 1\u001B[0m \u001B[43mV\u001B[49m\u001B[38;5;241m.\u001B[39mscene_widget\u001B[38;5;241m.\u001B[39mscene\u001B[38;5;241m.\u001B[39mgraph\u001B[38;5;241m.\u001B[39mshow()\n",
      "\u001B[0;31mNameError\u001B[0m: name 'V' is not defined"
     ]
    }
   ],
   "execution_count": 4
  },
  {
   "metadata": {
    "ExecuteTime": {
     "end_time": "2025-02-12T17:18:53.115948Z",
     "start_time": "2025-02-12T17:18:53.111541Z"
    }
   },
   "cell_type": "code",
   "source": "s=V.scene_widget.scene.geometry",
   "id": "95354a95db621d2c",
   "outputs": [],
   "execution_count": 8
  }
 ],
 "metadata": {
  "kernelspec": {
   "display_name": "Python 3",
   "language": "python",
   "name": "python3"
  },
  "language_info": {
   "codemirror_mode": {
    "name": "ipython",
    "version": 2
   },
   "file_extension": ".py",
   "mimetype": "text/x-python",
   "name": "python",
   "nbconvert_exporter": "python",
   "pygments_lexer": "ipython2",
   "version": "2.7.6"
  }
 },
 "nbformat": 4,
 "nbformat_minor": 5
}
