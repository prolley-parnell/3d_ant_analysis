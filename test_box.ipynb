{
 "cells": [
  {
   "cell_type": "code",
   "id": "initial_id",
   "metadata": {
    "collapsed": true,
    "ExecuteTime": {
     "end_time": "2024-12-04T16:54:10.474812Z",
     "start_time": "2024-12-04T16:54:10.216604Z"
    }
   },
   "source": "import src.triangle_ray_intersection as triangle_ray_intersection",
   "outputs": [],
   "execution_count": 1
  },
  {
   "metadata": {
    "ExecuteTime": {
     "end_time": "2024-12-04T15:12:42.094101Z",
     "start_time": "2024-12-04T15:12:42.089254Z"
    }
   },
   "cell_type": "code",
   "source": "names = ['thorax', 'neck', 'a_L1', 'a_L2', 'a_R1', 'a_R2', 'leg_f_L1', 'leg_f_L2', 'leg_f_R1', 'leg_f_R2', 'leg_m_L1', 'leg_m_L2', 'leg_m_R1', 'leg_m_R2', 'a_R0', 'a_L0', 'leg_f_R0', 'leg_f_L0', 'leg_m_R0', 'leg_m_L0', 'eye_L', 'eye_R', 'm_L0', 'm_R0', 'm_L1', 'm_R1']",
   "id": "43f20774704852b",
   "outputs": [],
   "execution_count": 8
  },
  {
   "metadata": {
    "ExecuteTime": {
     "end_time": "2024-12-04T16:54:23.242913Z",
     "start_time": "2024-12-04T16:54:14.225443Z"
    }
   },
   "cell_type": "code",
   "source": "t = triangle_ray_intersection.CollisionDetector(obj_folder=\"./example_obj_folder\", skeleton_json_path=\"\", pose_csv=\"example_skeleton_csv.csv\")",
   "id": "ab59df64419acd93",
   "outputs": [
    {
     "name": "stdout",
     "output_type": "stream",
     "text": [
      "Frame index is 244 \n"
     ]
    }
   ],
   "execution_count": 2
  },
  {
   "metadata": {
    "ExecuteTime": {
     "end_time": "2024-12-04T16:47:43.876105Z",
     "start_time": "2024-12-04T16:47:43.863693Z"
    }
   },
   "cell_type": "code",
   "source": "t._obj_dict[244]",
   "id": "449dee6193e3ec95",
   "outputs": [
    {
     "data": {
      "text/plain": [
       "<trimesh.Trimesh(vertices.shape=(2768, 3), faces.shape=(5528, 3), name=`0244.obj`)>"
      ]
     },
     "execution_count": 5,
     "metadata": {},
     "output_type": "execute_result"
    }
   ],
   "execution_count": 5
  },
  {
   "metadata": {
    "ExecuteTime": {
     "end_time": "2024-12-04T16:57:51.081574Z",
     "start_time": "2024-12-04T16:57:30.729240Z"
    }
   },
   "cell_type": "code",
   "source": [
    "for i in range(2400):\n",
    "    location = t.get_collisions(i)\n",
    "    if len(location) > 0:\n",
    "        # print(location)\n",
    "        print(i)"
   ],
   "id": "20b52d016567eb02",
   "outputs": [
    {
     "name": "stdout",
     "output_type": "stream",
     "text": [
      "736\n",
      "738\n",
      "2290\n",
      "2291\n",
      "2292\n",
      "2293\n",
      "2295\n",
      "2296\n",
      "2297\n",
      "2298\n",
      "2299\n",
      "2300\n",
      "2301\n",
      "2302\n",
      "2303\n",
      "2304\n",
      "2305\n",
      "2306\n",
      "2307\n",
      "2308\n",
      "2309\n",
      "2310\n",
      "2311\n",
      "2312\n",
      "2313\n",
      "2315\n",
      "2316\n",
      "2319\n",
      "2320\n",
      "2322\n",
      "2379\n",
      "2380\n",
      "2381\n",
      "2382\n",
      "2390\n",
      "2391\n",
      "2392\n",
      "2396\n",
      "2399\n"
     ]
    }
   ],
   "execution_count": 9
  }
 ],
 "metadata": {
  "kernelspec": {
   "display_name": "Python 3",
   "language": "python",
   "name": "python3"
  },
  "language_info": {
   "codemirror_mode": {
    "name": "ipython",
    "version": 2
   },
   "file_extension": ".py",
   "mimetype": "text/x-python",
   "name": "python",
   "nbconvert_exporter": "python",
   "pygments_lexer": "ipython2",
   "version": "2.7.6"
  }
 },
 "nbformat": 4,
 "nbformat_minor": 5
}
