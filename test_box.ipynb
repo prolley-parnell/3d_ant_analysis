{
 "cells": [
  {
   "metadata": {
    "ExecuteTime": {
     "end_time": "2025-04-07T10:57:30.670137Z",
     "start_time": "2025-04-07T10:57:29.689551Z"
    }
   },
   "cell_type": "code",
   "source": [
    "from src.collision import CollisionDetector\n",
    "obj_folder = \"/Users/persie/PhD_Code/3d_ant_data_rle/240905-1616/outputs/segmentation\""
   ],
   "id": "e36171c42fbbc1bb",
   "outputs": [],
   "execution_count": 1
  },
  {
   "metadata": {
    "ExecuteTime": {
     "end_time": "2025-04-07T10:57:32.478747Z",
     "start_time": "2025-04-07T10:57:30.829269Z"
    }
   },
   "cell_type": "code",
   "source": "t = CollisionDetector(obj_folder=obj_folder, skeleton_toml_path=\"skeleton.toml\", pose_csv=\"./tracking/28/240905-1616_session28_track99_points3d.csv\", obj_ref_frame=2599, obj_transform_toml=f\"{obj_folder}/240905-1616_seed_session28_first.toml\")",
   "id": "418da7b0e9a8bf50",
   "outputs": [],
   "execution_count": 2
  },
  {
   "metadata": {},
   "cell_type": "code",
   "source": [
    "from src.object import CollisionObj\n",
    "raw_mesh = CollisionObj(obj_folder=obj_folder)"
   ],
   "id": "127f3f5d34daa68",
   "outputs": [],
   "execution_count": null
  },
  {
   "metadata": {
    "ExecuteTime": {
     "end_time": "2025-04-07T10:57:34.668567Z",
     "start_time": "2025-04-07T10:57:32.483732Z"
    }
   },
   "cell_type": "code",
   "source": [
    "from src.animal import AnimalList\n",
    "track_folder = \"/Users/persie/PhD_Code/3d_ant_data_rle/240905-1616/outputs/tracking\"\n",
    "A = AnimalList(\"skeleton.toml\", track_folder, session_number=28)"
   ],
   "id": "420e76a213d8fc91",
   "outputs": [
    {
     "name": "stderr",
     "output_type": "stream",
     "text": [
      "PosixPath('/Users/persie/PhD_Code/3d_ant_data_rle/240905-1616/outputs/tracking/240905-1616_session28_track0_points3d.csv') generated an exception: Pose csv does not contain any valid frames\n",
      "PosixPath('/Users/persie/PhD_Code/3d_ant_data_rle/240905-1616/outputs/tracking/240905-1616_session28_track11_points3d.csv') generated an exception: Pose csv does not contain any valid frames\n",
      "PosixPath('/Users/persie/PhD_Code/3d_ant_data_rle/240905-1616/outputs/tracking/240905-1616_session28_track10_points3d.csv') generated an exception: Pose csv does not contain any valid frames\n",
      "PosixPath('/Users/persie/PhD_Code/3d_ant_data_rle/240905-1616/outputs/tracking/240905-1616_session28_track12_points3d.csv') generated an exception: Pose csv does not contain any valid frames\n",
      "PosixPath('/Users/persie/PhD_Code/3d_ant_data_rle/240905-1616/outputs/tracking/240905-1616_session28_track13_points3d.csv') generated an exception: Pose csv does not contain any valid frames\n",
      "PosixPath('/Users/persie/PhD_Code/3d_ant_data_rle/240905-1616/outputs/tracking/240905-1616_session28_track17_points3d.csv') generated an exception: Pose csv does not contain any valid frames\n",
      "PosixPath('/Users/persie/PhD_Code/3d_ant_data_rle/240905-1616/outputs/tracking/240905-1616_session28_track16_points3d.csv') generated an exception: Pose csv does not contain any valid frames\n",
      "PosixPath('/Users/persie/PhD_Code/3d_ant_data_rle/240905-1616/outputs/tracking/240905-1616_session28_track18_points3d.csv') generated an exception: Pose csv does not contain any valid frames\n",
      "PosixPath('/Users/persie/PhD_Code/3d_ant_data_rle/240905-1616/outputs/tracking/240905-1616_session28_track19_points3d.csv') generated an exception: Pose csv does not contain any valid frames\n",
      "PosixPath('/Users/persie/PhD_Code/3d_ant_data_rle/240905-1616/outputs/tracking/240905-1616_session28_track20_points3d.csv') generated an exception: Pose csv does not contain any valid frames\n",
      "PosixPath('/Users/persie/PhD_Code/3d_ant_data_rle/240905-1616/outputs/tracking/240905-1616_session28_track21_points3d.csv') generated an exception: Pose csv does not contain any valid frames\n",
      "PosixPath('/Users/persie/PhD_Code/3d_ant_data_rle/240905-1616/outputs/tracking/240905-1616_session28_track22_points3d.csv') generated an exception: Pose csv does not contain any valid frames\n",
      "PosixPath('/Users/persie/PhD_Code/3d_ant_data_rle/240905-1616/outputs/tracking/240905-1616_session28_track24_points3d.csv') generated an exception: iteration over a 0-d array\n",
      "PosixPath('/Users/persie/PhD_Code/3d_ant_data_rle/240905-1616/outputs/tracking/240905-1616_session28_track23_points3d.csv') generated an exception: Pose csv does not contain any valid frames\n",
      "PosixPath('/Users/persie/PhD_Code/3d_ant_data_rle/240905-1616/outputs/tracking/240905-1616_session28_track26_points3d.csv') generated an exception: Pose csv does not contain any valid frames\n",
      "PosixPath('/Users/persie/PhD_Code/3d_ant_data_rle/240905-1616/outputs/tracking/240905-1616_session28_track27_points3d.csv') generated an exception: Pose csv does not contain any valid frames\n",
      "PosixPath('/Users/persie/PhD_Code/3d_ant_data_rle/240905-1616/outputs/tracking/240905-1616_session28_track28_points3d.csv') generated an exception: Pose csv does not contain any valid frames\n",
      "PosixPath('/Users/persie/PhD_Code/3d_ant_data_rle/240905-1616/outputs/tracking/240905-1616_session28_track29_points3d.csv') generated an exception: Pose csv does not contain any valid frames\n",
      "PosixPath('/Users/persie/PhD_Code/3d_ant_data_rle/240905-1616/outputs/tracking/240905-1616_session28_track2_points3d.csv') generated an exception: Pose csv does not contain any valid frames\n",
      "PosixPath('/Users/persie/PhD_Code/3d_ant_data_rle/240905-1616/outputs/tracking/240905-1616_session28_track33_points3d.csv') generated an exception: Pose csv does not contain any valid frames\n",
      "PosixPath('/Users/persie/PhD_Code/3d_ant_data_rle/240905-1616/outputs/tracking/240905-1616_session28_track32_points3d.csv') generated an exception: Pose csv does not contain any valid frames\n",
      "PosixPath('/Users/persie/PhD_Code/3d_ant_data_rle/240905-1616/outputs/tracking/240905-1616_session28_track30_points3d.csv') generated an exception: iteration over a 0-d array\n",
      "PosixPath('/Users/persie/PhD_Code/3d_ant_data_rle/240905-1616/outputs/tracking/240905-1616_session28_track31_points3d.csv') generated an exception: Pose csv does not contain any valid frames\n",
      "PosixPath('/Users/persie/PhD_Code/3d_ant_data_rle/240905-1616/outputs/tracking/240905-1616_session28_track36_points3d.csv') generated an exception: Pose csv does not contain any valid frames\n",
      "PosixPath('/Users/persie/PhD_Code/3d_ant_data_rle/240905-1616/outputs/tracking/240905-1616_session28_track35_points3d.csv') generated an exception: Pose csv does not contain any valid frames\n",
      "PosixPath('/Users/persie/PhD_Code/3d_ant_data_rle/240905-1616/outputs/tracking/240905-1616_session28_track37_points3d.csv') generated an exception: Pose csv does not contain any valid frames\n",
      "PosixPath('/Users/persie/PhD_Code/3d_ant_data_rle/240905-1616/outputs/tracking/240905-1616_session28_track38_points3d.csv') generated an exception: Pose csv does not contain any valid frames\n",
      "PosixPath('/Users/persie/PhD_Code/3d_ant_data_rle/240905-1616/outputs/tracking/240905-1616_session28_track39_points3d.csv') generated an exception: Pose csv does not contain any valid frames\n",
      "PosixPath('/Users/persie/PhD_Code/3d_ant_data_rle/240905-1616/outputs/tracking/240905-1616_session28_track41_points3d.csv') generated an exception: Pose csv does not contain any valid frames\n",
      "PosixPath('/Users/persie/PhD_Code/3d_ant_data_rle/240905-1616/outputs/tracking/240905-1616_session28_track40_points3d.csv') generated an exception: Pose csv does not contain any valid frames\n",
      "PosixPath('/Users/persie/PhD_Code/3d_ant_data_rle/240905-1616/outputs/tracking/240905-1616_session28_track42_points3d.csv') generated an exception: Pose csv does not contain any valid frames\n",
      "PosixPath('/Users/persie/PhD_Code/3d_ant_data_rle/240905-1616/outputs/tracking/240905-1616_session28_track43_points3d.csv') generated an exception: Pose csv does not contain any valid frames\n",
      "PosixPath('/Users/persie/PhD_Code/3d_ant_data_rle/240905-1616/outputs/tracking/240905-1616_session28_track44_points3d.csv') generated an exception: Pose csv does not contain any valid frames\n",
      "PosixPath('/Users/persie/PhD_Code/3d_ant_data_rle/240905-1616/outputs/tracking/240905-1616_session28_track46_points3d.csv') generated an exception: Pose csv does not contain any valid frames\n",
      "PosixPath('/Users/persie/PhD_Code/3d_ant_data_rle/240905-1616/outputs/tracking/240905-1616_session28_track45_points3d.csv') generated an exception: Pose csv does not contain any valid frames\n",
      "PosixPath('/Users/persie/PhD_Code/3d_ant_data_rle/240905-1616/outputs/tracking/240905-1616_session28_track47_points3d.csv') generated an exception: Pose csv does not contain any valid frames\n",
      "PosixPath('/Users/persie/PhD_Code/3d_ant_data_rle/240905-1616/outputs/tracking/240905-1616_session28_track48_points3d.csv') generated an exception: Pose csv does not contain any valid frames\n",
      "PosixPath('/Users/persie/PhD_Code/3d_ant_data_rle/240905-1616/outputs/tracking/240905-1616_session28_track49_points3d.csv') generated an exception: Pose csv does not contain any valid frames\n",
      "PosixPath('/Users/persie/PhD_Code/3d_ant_data_rle/240905-1616/outputs/tracking/240905-1616_session28_track5_points3d.csv') generated an exception: Pose csv does not contain any valid frames\n",
      "PosixPath('/Users/persie/PhD_Code/3d_ant_data_rle/240905-1616/outputs/tracking/240905-1616_session28_track50_points3d.csv') generated an exception: Pose csv does not contain any valid frames\n",
      "PosixPath('/Users/persie/PhD_Code/3d_ant_data_rle/240905-1616/outputs/tracking/240905-1616_session28_track6_points3d.csv') generated an exception: Pose csv does not contain any valid frames\n",
      "PosixPath('/Users/persie/PhD_Code/3d_ant_data_rle/240905-1616/outputs/tracking/240905-1616_session28_track9_points3d.csv') generated an exception: Pose csv does not contain any valid frames\n"
     ]
    }
   ],
   "execution_count": 3
  },
  {
   "metadata": {
    "ExecuteTime": {
     "end_time": "2025-04-07T11:02:57.373056Z",
     "start_time": "2025-04-07T11:00:34.294188Z"
    }
   },
   "cell_type": "code",
   "source": [
    "from src.visual_widget import MultiViewer\n",
    "V = MultiViewer(A.animals, [t.obj], 0)"
   ],
   "id": "e88ae344a64142e7",
   "outputs": [
    {
     "ename": "KeyboardInterrupt",
     "evalue": "",
     "output_type": "error",
     "traceback": [
      "\u001B[31m---------------------------------------------------------------------------\u001B[39m",
      "\u001B[31mKeyboardInterrupt\u001B[39m                         Traceback (most recent call last)",
      "\u001B[36mCell\u001B[39m\u001B[36m \u001B[39m\u001B[32mIn[5]\u001B[39m\u001B[32m, line 2\u001B[39m\n\u001B[32m      1\u001B[39m \u001B[38;5;28;01mfrom\u001B[39;00m\u001B[38;5;250m \u001B[39m\u001B[34;01msrc\u001B[39;00m\u001B[34;01m.\u001B[39;00m\u001B[34;01mvisual_widget\u001B[39;00m\u001B[38;5;250m \u001B[39m\u001B[38;5;28;01mimport\u001B[39;00m MultiViewer\n\u001B[32m----> \u001B[39m\u001B[32m2\u001B[39m V = \u001B[43mMultiViewer\u001B[49m\u001B[43m(\u001B[49m\u001B[43mA\u001B[49m\u001B[43m.\u001B[49m\u001B[43manimals\u001B[49m\u001B[43m,\u001B[49m\u001B[43m \u001B[49m\u001B[43m[\u001B[49m\u001B[43mt\u001B[49m\u001B[43m.\u001B[49m\u001B[43mobj\u001B[49m\u001B[43m]\u001B[49m\u001B[43m,\u001B[49m\u001B[43m \u001B[49m\u001B[32;43m0\u001B[39;49m\u001B[43m)\u001B[49m\n",
      "\u001B[36mFile \u001B[39m\u001B[32m~/PycharmProjects/3d_ant_analysis/src/visual_widget.py:56\u001B[39m, in \u001B[36mMultiViewer.__init__\u001B[39m\u001B[34m(self, animal_list, object_list, frame_index, auto_play, draw_legend)\u001B[39m\n\u001B[32m     54\u001B[39m \u001B[38;5;28mself\u001B[39m._legend = []\n\u001B[32m     55\u001B[39m \u001B[38;5;28;01mif\u001B[39;00m draw_legend:\n\u001B[32m---> \u001B[39m\u001B[32m56\u001B[39m     \u001B[38;5;28;43mself\u001B[39;49m\u001B[43m.\u001B[49m\u001B[43m_update_legend\u001B[49m\u001B[43m(\u001B[49m\u001B[43manimal_frame_flag\u001B[49m\u001B[43m)\u001B[49m\n\u001B[32m     57\u001B[39m \u001B[38;5;66;03m# self.label.draw()\u001B[39;00m\n\u001B[32m     58\u001B[39m gui.add(hbox)\n",
      "\u001B[36mFile \u001B[39m\u001B[32m~/PycharmProjects/3d_ant_analysis/src/visual_widget.py:119\u001B[39m, in \u001B[36mMultiViewer._update_legend\u001B[39m\u001B[34m(self, animal_frame_flag)\u001B[39m\n\u001B[32m    117\u001B[39m width = \u001B[38;5;28mself\u001B[39m.width / \u001B[32m5\u001B[39m\n\u001B[32m    118\u001B[39m height = \u001B[38;5;28mmax\u001B[39m(\u001B[38;5;28mself\u001B[39m.height / (\u001B[32m2\u001B[39m * \u001B[38;5;28mlen\u001B[39m(\u001B[38;5;28mself\u001B[39m.animal_list)), \u001B[32m12\u001B[39m)\n\u001B[32m--> \u001B[39m\u001B[32m119\u001B[39m \u001B[38;5;28;01mfor\u001B[39;00m flag, animal \u001B[38;5;129;01min\u001B[39;00m \u001B[38;5;28;43mzip\u001B[39;49m(animal_frame_flag, \u001B[38;5;28mself\u001B[39m.animal_list):\n\u001B[32m    120\u001B[39m     \u001B[38;5;28;01mif\u001B[39;00m flag:\n\u001B[32m    121\u001B[39m         legend = pyglet.text.Label(animal.name,\n\u001B[32m    122\u001B[39m                                    x=origin[\u001B[32m0\u001B[39m],\n\u001B[32m    123\u001B[39m                                    y=origin[\u001B[32m1\u001B[39m],\n\u001B[32m   (...)\u001B[39m\u001B[32m    127\u001B[39m                                    height=height,\n\u001B[32m    128\u001B[39m                                    width=width)\n",
      "\u001B[36mFile \u001B[39m\u001B[32m_pydevd_bundle/pydevd_cython_darwin_312_64.pyx:1187\u001B[39m, in \u001B[36m_pydevd_bundle.pydevd_cython_darwin_312_64.SafeCallWrapper.__call__\u001B[39m\u001B[34m()\u001B[39m\n",
      "\u001B[36mFile \u001B[39m\u001B[32m_pydevd_bundle/pydevd_cython_darwin_312_64.pyx:627\u001B[39m, in \u001B[36m_pydevd_bundle.pydevd_cython_darwin_312_64.PyDBFrame.trace_dispatch\u001B[39m\u001B[34m()\u001B[39m\n",
      "\u001B[36mFile \u001B[39m\u001B[32m_pydevd_bundle/pydevd_cython_darwin_312_64.pyx:937\u001B[39m, in \u001B[36m_pydevd_bundle.pydevd_cython_darwin_312_64.PyDBFrame.trace_dispatch\u001B[39m\u001B[34m()\u001B[39m\n",
      "\u001B[36mFile \u001B[39m\u001B[32m_pydevd_bundle/pydevd_cython_darwin_312_64.pyx:928\u001B[39m, in \u001B[36m_pydevd_bundle.pydevd_cython_darwin_312_64.PyDBFrame.trace_dispatch\u001B[39m\u001B[34m()\u001B[39m\n",
      "\u001B[36mFile \u001B[39m\u001B[32m_pydevd_bundle/pydevd_cython_darwin_312_64.pyx:585\u001B[39m, in \u001B[36m_pydevd_bundle.pydevd_cython_darwin_312_64.PyDBFrame.do_wait_suspend\u001B[39m\u001B[34m()\u001B[39m\n",
      "\u001B[36mFile \u001B[39m\u001B[32m/Applications/PyCharm.app/Contents/plugins/python-ce/helpers/pydev/pydevd.py:1220\u001B[39m, in \u001B[36mPyDB.do_wait_suspend\u001B[39m\u001B[34m(self, thread, frame, event, arg, send_suspend_message, is_unhandled_exception)\u001B[39m\n\u001B[32m   1217\u001B[39m         from_this_thread.append(frame_id)\n\u001B[32m   1219\u001B[39m \u001B[38;5;28;01mwith\u001B[39;00m \u001B[38;5;28mself\u001B[39m._threads_suspended_single_notification.notify_thread_suspended(thread_id, stop_reason):\n\u001B[32m-> \u001B[39m\u001B[32m1220\u001B[39m     \u001B[38;5;28;43mself\u001B[39;49m\u001B[43m.\u001B[49m\u001B[43m_do_wait_suspend\u001B[49m\u001B[43m(\u001B[49m\u001B[43mthread\u001B[49m\u001B[43m,\u001B[49m\u001B[43m \u001B[49m\u001B[43mframe\u001B[49m\u001B[43m,\u001B[49m\u001B[43m \u001B[49m\u001B[43mevent\u001B[49m\u001B[43m,\u001B[49m\u001B[43m \u001B[49m\u001B[43marg\u001B[49m\u001B[43m,\u001B[49m\u001B[43m \u001B[49m\u001B[43msuspend_type\u001B[49m\u001B[43m,\u001B[49m\u001B[43m \u001B[49m\u001B[43mfrom_this_thread\u001B[49m\u001B[43m)\u001B[49m\n",
      "\u001B[36mFile \u001B[39m\u001B[32m/Applications/PyCharm.app/Contents/plugins/python-ce/helpers/pydev/pydevd.py:1235\u001B[39m, in \u001B[36mPyDB._do_wait_suspend\u001B[39m\u001B[34m(self, thread, frame, event, arg, suspend_type, from_this_thread)\u001B[39m\n\u001B[32m   1232\u001B[39m             \u001B[38;5;28mself\u001B[39m._call_mpl_hook()\n\u001B[32m   1234\u001B[39m         \u001B[38;5;28mself\u001B[39m.process_internal_commands()\n\u001B[32m-> \u001B[39m\u001B[32m1235\u001B[39m         \u001B[43mtime\u001B[49m\u001B[43m.\u001B[49m\u001B[43msleep\u001B[49m\u001B[43m(\u001B[49m\u001B[32;43m0.01\u001B[39;49m\u001B[43m)\u001B[49m\n\u001B[32m   1237\u001B[39m \u001B[38;5;28mself\u001B[39m.cancel_async_evaluation(get_current_thread_id(thread), \u001B[38;5;28mstr\u001B[39m(\u001B[38;5;28mid\u001B[39m(frame)))\n\u001B[32m   1239\u001B[39m \u001B[38;5;66;03m# process any stepping instructions\u001B[39;00m\n",
      "\u001B[31mKeyboardInterrupt\u001B[39m: "
     ]
    }
   ],
   "execution_count": 9
  },
  {
   "metadata": {},
   "cell_type": "code",
   "source": "V._scene_widget.scene.graph.show()",
   "id": "984cd47b513f648a",
   "outputs": [],
   "execution_count": null
  }
 ],
 "metadata": {
  "kernelspec": {
   "display_name": "Python 3",
   "language": "python",
   "name": "python3"
  },
  "language_info": {
   "codemirror_mode": {
    "name": "ipython",
    "version": 2
   },
   "file_extension": ".py",
   "mimetype": "text/x-python",
   "name": "python",
   "nbconvert_exporter": "python",
   "pygments_lexer": "ipython2",
   "version": "2.7.6"
  }
 },
 "nbformat": 4,
 "nbformat_minor": 5
}
