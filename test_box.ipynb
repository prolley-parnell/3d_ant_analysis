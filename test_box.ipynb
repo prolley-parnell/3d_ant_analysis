{
 "cells": [
  {
   "metadata": {
    "ExecuteTime": {
     "end_time": "2025-04-03T15:15:26.343670Z",
     "start_time": "2025-04-03T15:15:25.583827Z"
    }
   },
   "cell_type": "code",
   "source": [
    "from src.collision import CollisionDetector\n",
    "obj_folder = \"/Users/persie/PhD_Code/3d_ant_data_rle/240905-1616/outputs/segmentation\""
   ],
   "id": "e36171c42fbbc1bb",
   "outputs": [],
   "execution_count": 1
  },
  {
   "metadata": {
    "ExecuteTime": {
     "end_time": "2025-04-03T15:15:35.869513Z",
     "start_time": "2025-04-03T15:15:34.823143Z"
    }
   },
   "cell_type": "code",
   "source": "t = CollisionDetector(obj_folder=obj_folder, skeleton_toml_path=\"skeleton.toml\", pose_csv=\"./tracking/28/240905-1616_session28_track99_points3d.csv\", obj_ref_frame=2599, obj_transform_toml=f\"{obj_folder}/240905-1616_seed_session28_first.toml\")",
   "id": "418da7b0e9a8bf50",
   "outputs": [],
   "execution_count": 3
  },
  {
   "metadata": {},
   "cell_type": "code",
   "source": [
    "from src.object import CollisionObj\n",
    "raw_mesh = CollisionObj(obj_folder=obj_folder)"
   ],
   "id": "127f3f5d34daa68",
   "outputs": [],
   "execution_count": null
  },
  {
   "metadata": {},
   "cell_type": "code",
   "source": [
    "from src.animal import AnimalStruct, AnimalList\n",
    "track_folder = \"/Users/persie/PhD_Code/3d_ant_data_rle/240905-1616/outputs/tracking\"\n",
    "A = AnimalList(\"skeleton.toml\", track_folder, session_number=28)"
   ],
   "id": "420e76a213d8fc91",
   "outputs": [],
   "execution_count": null
  },
  {
   "metadata": {},
   "cell_type": "code",
   "source": [
    "from src.visual_widget import MultiViewer\n",
    "V = MultiViewer(A.animals, [t.obj], 0)"
   ],
   "id": "e88ae344a64142e7",
   "outputs": [],
   "execution_count": null
  },
  {
   "metadata": {},
   "cell_type": "code",
   "source": "V.scene_widget.scene.graph.show()",
   "id": "984cd47b513f648a",
   "outputs": [],
   "execution_count": null
  }
 ],
 "metadata": {
  "kernelspec": {
   "display_name": "Python 3",
   "language": "python",
   "name": "python3"
  },
  "language_info": {
   "codemirror_mode": {
    "name": "ipython",
    "version": 2
   },
   "file_extension": ".py",
   "mimetype": "text/x-python",
   "name": "python",
   "nbconvert_exporter": "python",
   "pygments_lexer": "ipython2",
   "version": "2.7.6"
  }
 },
 "nbformat": 4,
 "nbformat_minor": 5
}
