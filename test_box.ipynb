{
 "cells": [
  {
   "cell_type": "code",
   "id": "initial_id",
   "metadata": {
    "collapsed": true,
    "ExecuteTime": {
     "end_time": "2025-01-31T17:52:07.572413Z",
     "start_time": "2025-01-31T17:52:06.754829Z"
    }
   },
   "source": "import src.triangle_ray_intersection as triangle_ray_intersection",
   "outputs": [],
   "execution_count": 1
  },
  {
   "metadata": {
    "ExecuteTime": {
     "end_time": "2025-01-30T15:14:15.059505Z",
     "start_time": "2025-01-30T15:14:15.055757Z"
    }
   },
   "cell_type": "code",
   "source": "names = ['thorax', 'neck', 'a_L1', 'a_L2', 'a_R1', 'a_R2', 'leg_f_L1', 'leg_f_L2', 'leg_f_R1', 'leg_f_R2', 'leg_m_L1', 'leg_m_L2', 'leg_m_R1', 'leg_m_R2', 'a_R0', 'a_L0', 'leg_f_R0', 'leg_f_L0', 'leg_m_R0', 'leg_m_L0', 'eye_L', 'eye_R', 'm_L0', 'm_R0', 'm_L1', 'm_R1']",
   "id": "43f20774704852b",
   "outputs": [],
   "execution_count": 7
  },
  {
   "metadata": {
    "ExecuteTime": {
     "end_time": "2025-01-31T17:52:19.143600Z",
     "start_time": "2025-01-31T17:52:08.723509Z"
    }
   },
   "cell_type": "code",
   "source": "t = triangle_ray_intersection.CollisionDetector(obj_folder=\"./example_obj_folder/seed/\", skeleton_json_path=\"\", pose_csv=\"ant_3d_validrows.csv\")",
   "id": "ab59df64419acd93",
   "outputs": [],
   "execution_count": 2
  },
  {
   "metadata": {
    "ExecuteTime": {
     "end_time": "2025-01-31T17:52:37.547663Z",
     "start_time": "2025-01-31T17:52:19.149822Z"
    }
   },
   "cell_type": "code",
   "source": "V = triangle_ray_intersection.Viewer(t.animal, t.obj, 1564)",
   "id": "e88ae344a64142e7",
   "outputs": [
    {
     "name": "stderr",
     "output_type": "stream",
     "text": [
      "2025-01-31 17:52:19.229 python[97366:16722974] +[IMKClient subclass]: chose IMKClient_Modern\n",
      "2025-01-31 17:52:19.258 python[97366:16722974] +[IMKInputSession subclass]: chose IMKInputSession_Modern\n"
     ]
    }
   ],
   "execution_count": 3
  }
 ],
 "metadata": {
  "kernelspec": {
   "display_name": "Python 3",
   "language": "python",
   "name": "python3"
  },
  "language_info": {
   "codemirror_mode": {
    "name": "ipython",
    "version": 2
   },
   "file_extension": ".py",
   "mimetype": "text/x-python",
   "name": "python",
   "nbconvert_exporter": "python",
   "pygments_lexer": "ipython2",
   "version": "2.7.6"
  }
 },
 "nbformat": 4,
 "nbformat_minor": 5
}
