{
 "cells": [
  {
   "metadata": {
    "ExecuteTime": {
     "end_time": "2025-02-11T13:57:53.893962Z",
     "start_time": "2025-02-11T13:57:53.889648Z"
    }
   },
   "cell_type": "code",
   "source": "names = ['thorax', 'neck', 'a_L1', 'a_L2', 'a_R1', 'a_R2', 'leg_f_L1', 'leg_f_L2', 'leg_f_R1', 'leg_f_R2', 'leg_m_L1', 'leg_m_L2', 'leg_m_R1', 'leg_m_R2', 'a_R0', 'a_L0', 'leg_f_R0', 'leg_f_L0', 'leg_m_R0', 'leg_m_L0', 'eye_L', 'eye_R', 'm_L0', 'm_R0', 'm_L1', 'm_R1']",
   "id": "43f20774704852b",
   "outputs": [],
   "execution_count": 1
  },
  {
   "metadata": {
    "ExecuteTime": {
     "end_time": "2025-02-11T15:33:01.958524Z",
     "start_time": "2025-02-11T15:32:49.632743Z"
    }
   },
   "cell_type": "code",
   "source": [
    "from src.collision import CollisionDetector\n",
    "# t = CollisionDetector(obj_folder=\"./example_obj_folder/\", skeleton_json_path=\"\", pose_csv=\"ant_3d.csv\")\n",
    "t = CollisionDetector(obj_folder=\"./example_obj_folder/seed/\", skeleton_json_path=\"\", pose_csv=\"1616_session28_ant_3d_WITHFRAMES.csv\")\n"
   ],
   "id": "ab59df64419acd93",
   "outputs": [],
   "execution_count": 1
  },
  {
   "metadata": {
    "ExecuteTime": {
     "end_time": "2025-02-11T15:33:35.390380Z",
     "start_time": "2025-02-11T15:33:01.963967Z"
    }
   },
   "cell_type": "code",
   "source": [
    "from src.visual_widget import Viewer\n",
    "V = Viewer(t.animal, t.obj, 1000)"
   ],
   "id": "e88ae344a64142e7",
   "outputs": [],
   "execution_count": 2
  },
  {
   "metadata": {
    "ExecuteTime": {
     "end_time": "2025-02-11T15:34:04.243636Z",
     "start_time": "2025-02-11T15:34:04.240617Z"
    }
   },
   "cell_type": "code",
   "source": "s=V.scene_widget.scene.geometry",
   "id": "10f14428b9e1358",
   "outputs": [],
   "execution_count": 3
  }
 ],
 "metadata": {
  "kernelspec": {
   "display_name": "Python 3",
   "language": "python",
   "name": "python3"
  },
  "language_info": {
   "codemirror_mode": {
    "name": "ipython",
    "version": 2
   },
   "file_extension": ".py",
   "mimetype": "text/x-python",
   "name": "python",
   "nbconvert_exporter": "python",
   "pygments_lexer": "ipython2",
   "version": "2.7.6"
  }
 },
 "nbformat": 4,
 "nbformat_minor": 5
}
