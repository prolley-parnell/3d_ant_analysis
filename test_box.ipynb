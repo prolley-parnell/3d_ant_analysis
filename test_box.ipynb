{
 "cells": [
  {
   "metadata": {
    "ExecuteTime": {
     "end_time": "2025-01-30T15:14:14.967188Z",
     "start_time": "2025-01-30T15:14:14.963773Z"
    }
   },
   "cell_type": "code",
   "source": [
    "import numpy as np\n",
    "from numpy.core.defchararray import translate"
   ],
   "id": "7924b3b05445b416",
   "outputs": [],
   "execution_count": 5
  },
  {
   "cell_type": "code",
   "id": "initial_id",
   "metadata": {
    "collapsed": true,
    "ExecuteTime": {
     "end_time": "2025-01-30T17:30:08.342585Z",
     "start_time": "2025-01-30T17:30:07.921996Z"
    }
   },
   "source": "import src.triangle_ray_intersection as triangle_ray_intersection",
   "outputs": [],
   "execution_count": 1
  },
  {
   "metadata": {
    "ExecuteTime": {
     "end_time": "2025-01-30T15:14:15.059505Z",
     "start_time": "2025-01-30T15:14:15.055757Z"
    }
   },
   "cell_type": "code",
   "source": "names = ['thorax', 'neck', 'a_L1', 'a_L2', 'a_R1', 'a_R2', 'leg_f_L1', 'leg_f_L2', 'leg_f_R1', 'leg_f_R2', 'leg_m_L1', 'leg_m_L2', 'leg_m_R1', 'leg_m_R2', 'a_R0', 'a_L0', 'leg_f_R0', 'leg_f_L0', 'leg_m_R0', 'leg_m_L0', 'eye_L', 'eye_R', 'm_L0', 'm_R0', 'm_L1', 'm_R1']",
   "id": "43f20774704852b",
   "outputs": [],
   "execution_count": 7
  },
  {
   "metadata": {
    "ExecuteTime": {
     "end_time": "2025-01-30T17:30:20.504738Z",
     "start_time": "2025-01-30T17:30:08.945384Z"
    }
   },
   "cell_type": "code",
   "source": "t = triangle_ray_intersection.CollisionDetector(obj_folder=\"./example_obj_folder/seed/\", skeleton_json_path=\"\", pose_csv=\"ant_3d_validrows.csv\")",
   "id": "ab59df64419acd93",
   "outputs": [],
   "execution_count": 2
  },
  {
   "metadata": {},
   "cell_type": "code",
   "source": [
    "for i in range(2400):\n",
    "    try:\n",
    "        location, norm = t.get_collisions(i)\n",
    "    except:\n",
    "        location, norm = [], []\n",
    "    if len(location) > 0:\n",
    "        print(i)"
   ],
   "id": "20b52d016567eb02",
   "outputs": [],
   "execution_count": null
  },
  {
   "metadata": {},
   "cell_type": "code",
   "source": [
    "\n",
    "scene = t.visualise_collision(1752)\n",
    "\n",
    "scene.show(viewer=\"gl\")"
   ],
   "id": "5f998760f72d49eb",
   "outputs": [],
   "execution_count": null
  },
  {
   "metadata": {},
   "cell_type": "code",
   "source": [
    "scene = t.animal.visualise_animal(1064)\n",
    "scene.show(viewer=\"gl\", line_settings={'point_size':10})"
   ],
   "id": "a3060255a8b3d239",
   "outputs": [],
   "execution_count": null
  },
  {
   "metadata": {
    "ExecuteTime": {
     "end_time": "2025-01-30T15:14:15.756616787Z",
     "start_time": "2025-01-29T16:55:54.168826Z"
    }
   },
   "cell_type": "code",
   "source": "p = t.animal.get_animal_pose(1064)",
   "id": "bbed759573a41d5c",
   "outputs": [
    {
     "data": {
      "text/plain": [
       "[531, 1980]"
      ]
     },
     "execution_count": 4,
     "metadata": {},
     "output_type": "execute_result"
    }
   ],
   "execution_count": 4
  },
  {
   "metadata": {
    "ExecuteTime": {
     "end_time": "2025-01-30T17:30:49.570254Z",
     "start_time": "2025-01-30T17:30:20.507655Z"
    }
   },
   "cell_type": "code",
   "source": "V = triangle_ray_intersection.Viewer(t.animal, t.obj, 563)",
   "id": "e88ae344a64142e7",
   "outputs": [],
   "execution_count": 3
  },
  {
   "metadata": {
    "ExecuteTime": {
     "end_time": "2025-01-30T16:35:30.878928Z",
     "start_time": "2025-01-30T16:35:30.875322Z"
    }
   },
   "cell_type": "code",
   "source": "V.scene_widget1.scene.geometry['thorax'].apply_translation([2,2,2])",
   "id": "fdb5b5d5b2535cd2",
   "outputs": [
    {
     "data": {
      "text/plain": [
       "<trimesh.Trimesh(vertices.shape=(642, 3), faces.shape=(1280, 3))>"
      ]
     },
     "execution_count": 30,
     "metadata": {},
     "output_type": "execute_result"
    }
   ],
   "execution_count": 30
  },
  {
   "metadata": {
    "ExecuteTime": {
     "end_time": "2025-01-30T16:35:53.262841Z",
     "start_time": "2025-01-30T16:35:53.258828Z"
    }
   },
   "cell_type": "code",
   "source": "V.scene_widget1.do_draw()",
   "id": "8854950c3c46766f",
   "outputs": [],
   "execution_count": 31
  },
  {
   "metadata": {
    "ExecuteTime": {
     "end_time": "2025-01-30T17:29:15.640932Z",
     "start_time": "2025-01-30T17:29:15.636601Z"
    }
   },
   "cell_type": "code",
   "source": "v=V.scene_widget1.scene.geometry\n",
   "id": "dec7e15834c6e1a3",
   "outputs": [],
   "execution_count": 7
  },
  {
   "metadata": {
    "ExecuteTime": {
     "end_time": "2025-01-30T17:29:07.627597Z",
     "start_time": "2025-01-30T17:29:07.625345Z"
    }
   },
   "cell_type": "code",
   "source": "V.scene_widget1.scene.delete_geometry(v)",
   "id": "f5cb21e3b0219ccb",
   "outputs": [],
   "execution_count": 6
  },
  {
   "metadata": {
    "ExecuteTime": {
     "end_time": "2025-01-30T15:47:00.079221Z",
     "start_time": "2025-01-30T15:47:00.076235Z"
    }
   },
   "cell_type": "code",
   "source": "",
   "id": "aab28939ddb67b5a",
   "outputs": [],
   "execution_count": 12
  }
 ],
 "metadata": {
  "kernelspec": {
   "display_name": "Python 3",
   "language": "python",
   "name": "python3"
  },
  "language_info": {
   "codemirror_mode": {
    "name": "ipython",
    "version": 2
   },
   "file_extension": ".py",
   "mimetype": "text/x-python",
   "name": "python",
   "nbconvert_exporter": "python",
   "pygments_lexer": "ipython2",
   "version": "2.7.6"
  }
 },
 "nbformat": 4,
 "nbformat_minor": 5
}
