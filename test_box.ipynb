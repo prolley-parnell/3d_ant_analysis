{
 "cells": [
  {
   "metadata": {},
   "cell_type": "code",
   "source": "names = ['thorax', 'neck', 'a_L1', 'a_L2', 'a_R1', 'a_R2', 'leg_f_L1', 'leg_f_L2', 'leg_f_R1', 'leg_f_R2', 'leg_m_L1', 'leg_m_L2', 'leg_m_R1', 'leg_m_R2', 'a_R0', 'a_L0', 'leg_f_R0', 'leg_f_L0', 'leg_m_R0', 'leg_m_L0', 'eye_L', 'eye_R', 'm_L0', 'm_R0', 'm_L1', 'm_R1']",
   "id": "43f20774704852b",
   "outputs": [],
   "execution_count": null
  },
  {
   "metadata": {
    "ExecuteTime": {
     "end_time": "2025-03-06T09:26:02.191177Z",
     "start_time": "2025-03-06T09:25:57.972331Z"
    }
   },
   "cell_type": "code",
   "source": [
    "from src.collision import CollisionDetector\n",
    "obj_folder = \"./segmentation/28\"\n",
    "t = CollisionDetector(obj_folder=obj_folder, skeleton_toml_path=\"skeleton.toml\", pose_csv=\"./tracking/28/240905-1616_session28_track99_points3d.csv\")"
   ],
   "id": "ab59df64419acd93",
   "outputs": [
    {
     "name": "stderr",
     "output_type": "stream",
     "text": [
      "PosixPath('segmentation/28/240905-1616_seed_session28.toml') generated an exception: File segmentation/28/240905-1616_seed_session28.toml ignored, not .dae or .obj file\n"
     ]
    }
   ],
   "execution_count": 2
  },
  {
   "metadata": {
    "ExecuteTime": {
     "end_time": "2025-03-06T09:26:03.388035Z",
     "start_time": "2025-03-06T09:26:02.839118Z"
    }
   },
   "cell_type": "code",
   "source": "t = CollisionDetector(obj_folder=obj_folder, skeleton_toml_path=\"skeleton.toml\", pose_csv=\"./tracking/28/240905-1616_session28_track99_points3d.csv\", obj_ref_frame=2599, obj_transform_toml=f\"{obj_folder}/240905-1616_seed_session28.toml\")",
   "id": "418da7b0e9a8bf50",
   "outputs": [],
   "execution_count": 3
  },
  {
   "metadata": {
    "ExecuteTime": {
     "end_time": "2025-03-06T09:26:19.281853Z",
     "start_time": "2025-03-06T09:26:04.607486Z"
    }
   },
   "cell_type": "code",
   "source": [
    "from src.visual_widget import MultiViewer\n",
    "V = MultiViewer([t.animal], [t.obj], 563)"
   ],
   "id": "e88ae344a64142e7",
   "outputs": [
    {
     "name": "stderr",
     "output_type": "stream",
     "text": [
      "2025-03-06 09:26:04.897 python[45407:8599855] +[IMKClient subclass]: chose IMKClient_Modern\n",
      "2025-03-06 09:26:04.931 python[45407:8599855] +[IMKInputSession subclass]: chose IMKInputSession_Modern\n",
      "ERROR:src.animal:No rays present for animal at frame 843\n",
      "ERROR:src.animal:No rays present for animal at frame 845\n",
      "ERROR:src.animal:No rays present for animal at frame 846\n",
      "ERROR:src.animal:No rays present for animal at frame 847\n",
      "ERROR:src.animal:No rays present for animal at frame 854\n",
      "ERROR:src.animal:No rays present for animal at frame 855\n",
      "ERROR:src.animal:No rays present for animal at frame 857\n"
     ]
    }
   ],
   "execution_count": 4
  },
  {
   "metadata": {},
   "cell_type": "code",
   "source": "V.scene_widget.scene.graph.show()",
   "id": "984cd47b513f648a",
   "outputs": [],
   "execution_count": null
  }
 ],
 "metadata": {
  "kernelspec": {
   "display_name": "Python 3",
   "language": "python",
   "name": "python3"
  },
  "language_info": {
   "codemirror_mode": {
    "name": "ipython",
    "version": 2
   },
   "file_extension": ".py",
   "mimetype": "text/x-python",
   "name": "python",
   "nbconvert_exporter": "python",
   "pygments_lexer": "ipython2",
   "version": "2.7.6"
  }
 },
 "nbformat": 4,
 "nbformat_minor": 5
}
