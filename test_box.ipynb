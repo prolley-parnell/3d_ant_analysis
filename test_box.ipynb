{
 "cells": [
  {
   "metadata": {
    "ExecuteTime": {
     "end_time": "2024-12-09T18:24:23.673213Z",
     "start_time": "2024-12-09T18:24:23.665979Z"
    }
   },
   "cell_type": "code",
   "source": "import numpy as np",
   "id": "7924b3b05445b416",
   "outputs": [],
   "execution_count": 5
  },
  {
   "cell_type": "code",
   "id": "initial_id",
   "metadata": {
    "collapsed": true,
    "ExecuteTime": {
     "end_time": "2024-12-09T18:58:29.286392Z",
     "start_time": "2024-12-09T18:58:28.461125Z"
    }
   },
   "source": "import src.triangle_ray_intersection as triangle_ray_intersection",
   "outputs": [],
   "execution_count": 1
  },
  {
   "metadata": {
    "ExecuteTime": {
     "end_time": "2024-12-09T18:24:23.703357Z",
     "start_time": "2024-12-09T18:24:23.699938Z"
    }
   },
   "cell_type": "code",
   "source": "names = ['thorax', 'neck', 'a_L1', 'a_L2', 'a_R1', 'a_R2', 'leg_f_L1', 'leg_f_L2', 'leg_f_R1', 'leg_f_R2', 'leg_m_L1', 'leg_m_L2', 'leg_m_R1', 'leg_m_R2', 'a_R0', 'a_L0', 'leg_f_R0', 'leg_f_L0', 'leg_m_R0', 'leg_m_L0', 'eye_L', 'eye_R', 'm_L0', 'm_R0', 'm_L1', 'm_R1']",
   "id": "43f20774704852b",
   "outputs": [],
   "execution_count": 7
  },
  {
   "metadata": {
    "ExecuteTime": {
     "end_time": "2024-12-09T18:58:41.219084Z",
     "start_time": "2024-12-09T18:58:30.121726Z"
    }
   },
   "cell_type": "code",
   "source": "t = triangle_ray_intersection.CollisionDetector(obj_folder=\"./example_obj_folder/seed/\", skeleton_json_path=\"\", pose_csv=\"ant_3d_validrows.csv\")",
   "id": "ab59df64419acd93",
   "outputs": [],
   "execution_count": 2
  },
  {
   "metadata": {},
   "cell_type": "code",
   "source": [
    "for i in range(2400):\n",
    "    try:\n",
    "        location, norm = t.get_collisions(i)\n",
    "    except:\n",
    "        location, norm = [], []\n",
    "    if len(location) > 0:\n",
    "        print(i)"
   ],
   "id": "20b52d016567eb02",
   "outputs": [],
   "execution_count": null
  },
  {
   "metadata": {
    "ExecuteTime": {
     "end_time": "2024-12-09T18:24:27.038522Z",
     "start_time": "2024-12-09T17:59:18.077493Z"
    }
   },
   "cell_type": "code",
   "source": [
    "\n",
    "scene = t.visualise_collision(1064)\n",
    "\n",
    "scene.show(viewer=\"gl\")"
   ],
   "id": "5f998760f72d49eb",
   "outputs": [
    {
     "data": {
      "text/plain": [
       "SceneViewer(width=1800, height=1076)"
      ]
     },
     "execution_count": 4,
     "metadata": {},
     "output_type": "execute_result"
    }
   ],
   "execution_count": 4
  },
  {
   "metadata": {
    "ExecuteTime": {
     "end_time": "2024-12-09T18:58:56.260067Z",
     "start_time": "2024-12-09T18:58:46.686221Z"
    }
   },
   "cell_type": "code",
   "source": [
    "scene = t.visualise_animal(1064)\n",
    "scene.show(viewer=\"gl\", line_settings={'point_size':10})"
   ],
   "id": "a3060255a8b3d239",
   "outputs": [
    {
     "name": "stderr",
     "output_type": "stream",
     "text": [
      "2024-12-09 18:58:47.376 python[20786:27943675] +[IMKClient subclass]: chose IMKClient_Modern\n",
      "2024-12-09 18:58:47.413 python[20786:27943675] +[IMKInputSession subclass]: chose IMKInputSession_Modern\n"
     ]
    },
    {
     "data": {
      "text/plain": [
       "SceneViewer(width=1800, height=1076)"
      ]
     },
     "execution_count": 3,
     "metadata": {},
     "output_type": "execute_result"
    }
   ],
   "execution_count": 3
  },
  {
   "metadata": {},
   "cell_type": "code",
   "source": [
    "pose_ray_dict = t._pose_ray_dict[2304]\n",
    "ray_origins = np.array([pose_ray_dict[link]['origin'] for link in pose_ray_dict.keys()])"
   ],
   "id": "27500a5f186698d3",
   "outputs": [],
   "execution_count": null
  },
  {
   "metadata": {},
   "cell_type": "code",
   "source": "ray_origins",
   "id": "27878cbd27c1158f",
   "outputs": [],
   "execution_count": null
  }
 ],
 "metadata": {
  "kernelspec": {
   "display_name": "Python 3",
   "language": "python",
   "name": "python3"
  },
  "language_info": {
   "codemirror_mode": {
    "name": "ipython",
    "version": 2
   },
   "file_extension": ".py",
   "mimetype": "text/x-python",
   "name": "python",
   "nbconvert_exporter": "python",
   "pygments_lexer": "ipython2",
   "version": "2.7.6"
  }
 },
 "nbformat": 4,
 "nbformat_minor": 5
}
