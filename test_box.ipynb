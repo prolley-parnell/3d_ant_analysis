{
 "cells": [
  {
   "metadata": {
    "ExecuteTime": {
     "end_time": "2025-02-12T16:42:10.134396Z",
     "start_time": "2025-02-12T16:42:10.129773Z"
    }
   },
   "cell_type": "code",
   "source": "names = ['thorax', 'neck', 'a_L1', 'a_L2', 'a_R1', 'a_R2', 'leg_f_L1', 'leg_f_L2', 'leg_f_R1', 'leg_f_R2', 'leg_m_L1', 'leg_m_L2', 'leg_m_R1', 'leg_m_R2', 'a_R0', 'a_L0', 'leg_f_R0', 'leg_f_L0', 'leg_m_R0', 'leg_m_L0', 'eye_L', 'eye_R', 'm_L0', 'm_R0', 'm_L1', 'm_R1']",
   "id": "43f20774704852b",
   "outputs": [],
   "execution_count": 4
  },
  {
   "metadata": {
    "ExecuteTime": {
     "end_time": "2025-02-12T17:12:25.926799Z",
     "start_time": "2025-02-12T17:12:13.635885Z"
    }
   },
   "cell_type": "code",
   "source": [
    "from src.collision import CollisionDetector\n",
    "# t = CollisionDetector(obj_folder=\"./example_obj_folder/\", skeleton_json_path=\"\", pose_csv=\"ant_3d.csv\")\n",
    "t = CollisionDetector(obj_folder=\"./example_obj_folder/seed/\", skeleton_json_path=\"\", pose_csv=\"1616_session28_ant_3d_WITHFRAMES.csv\")\n"
   ],
   "id": "ab59df64419acd93",
   "outputs": [],
   "execution_count": 1
  },
  {
   "metadata": {
    "ExecuteTime": {
     "end_time": "2025-02-12T17:12:41.799621Z",
     "start_time": "2025-02-12T17:12:26.825687Z"
    }
   },
   "cell_type": "code",
   "source": [
    "from src.visual_widget import Viewer\n",
    "V = Viewer(t.animal, t.obj, 1000)"
   ],
   "id": "e88ae344a64142e7",
   "outputs": [],
   "execution_count": 2
  },
  {
   "metadata": {
    "ExecuteTime": {
     "end_time": "2025-02-12T17:13:01.394219Z",
     "start_time": "2025-02-12T17:13:01.392096Z"
    }
   },
   "cell_type": "code",
   "source": "s=V.scene_widget.scene.geometry",
   "id": "95354a95db621d2c",
   "outputs": [],
   "execution_count": 5
  }
 ],
 "metadata": {
  "kernelspec": {
   "display_name": "Python 3",
   "language": "python",
   "name": "python3"
  },
  "language_info": {
   "codemirror_mode": {
    "name": "ipython",
    "version": 2
   },
   "file_extension": ".py",
   "mimetype": "text/x-python",
   "name": "python",
   "nbconvert_exporter": "python",
   "pygments_lexer": "ipython2",
   "version": "2.7.6"
  }
 },
 "nbformat": 4,
 "nbformat_minor": 5
}
