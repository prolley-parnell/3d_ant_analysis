{
 "cells": [
  {
   "cell_type": "code",
   "id": "initial_id",
   "metadata": {
    "collapsed": true,
    "ExecuteTime": {
     "end_time": "2025-02-17T15:18:18.114240Z",
     "start_time": "2025-02-17T15:18:17.687070Z"
    }
   },
   "source": "from src.object import CollisionObj",
   "outputs": [],
   "execution_count": 1
  },
  {
   "metadata": {
    "ExecuteTime": {
     "end_time": "2025-02-17T15:18:31.167035Z",
     "start_time": "2025-02-17T15:18:19.510430Z"
    }
   },
   "cell_type": "code",
   "source": " co = CollisionObj(\"./example_obj_folder/seed/\")",
   "id": "ce6954c79cef0d32",
   "outputs": [
    {
     "name": "stderr",
     "output_type": "stream",
     "text": [
      "'seed_1121.obj' generated an exception: Mesh ./example_obj_folder/seed/seed_1121.obj ignored, file empty\n",
      "'seed_1122.obj' generated an exception: Mesh ./example_obj_folder/seed/seed_1122.obj ignored, file empty\n",
      "'seed_1269.obj' generated an exception: Mesh ./example_obj_folder/seed/seed_1269.obj ignored, file empty\n",
      "'seed_1123.obj' generated an exception: Mesh ./example_obj_folder/seed/seed_1123.obj ignored, file empty\n",
      "'seed_1133.obj' generated an exception: Mesh ./example_obj_folder/seed/seed_1133.obj ignored, file empty\n",
      "'seed_1118.obj' generated an exception: Mesh ./example_obj_folder/seed/seed_1118.obj ignored, file empty\n",
      "'seed_1131.obj' generated an exception: Mesh ./example_obj_folder/seed/seed_1131.obj ignored, file empty\n",
      "'seed_1128.obj' generated an exception: Mesh ./example_obj_folder/seed/seed_1128.obj ignored, file empty\n",
      "'seed_1263.obj' generated an exception: Mesh ./example_obj_folder/seed/seed_1263.obj ignored, file empty\n",
      "'seed_1129.obj' generated an exception: Mesh ./example_obj_folder/seed/seed_1129.obj ignored, file empty\n",
      "'seed_1261.obj' generated an exception: Mesh ./example_obj_folder/seed/seed_1261.obj ignored, file empty\n",
      "'seed_1260.obj' generated an exception: Mesh ./example_obj_folder/seed/seed_1260.obj ignored, file empty\n",
      "'seed_1265.obj' generated an exception: Mesh ./example_obj_folder/seed/seed_1265.obj ignored, file empty\n",
      "'seed_1271.obj' generated an exception: Mesh ./example_obj_folder/seed/seed_1271.obj ignored, file empty\n",
      "'seed_1267.obj' generated an exception: Mesh ./example_obj_folder/seed/seed_1267.obj ignored, file empty\n",
      "'seed_1266.obj' generated an exception: Mesh ./example_obj_folder/seed/seed_1266.obj ignored, file empty\n"
     ]
    }
   ],
   "execution_count": 2
  },
  {
   "metadata": {
    "ExecuteTime": {
     "end_time": "2025-02-17T13:21:53.065717Z",
     "start_time": "2025-02-17T13:21:53.062480Z"
    }
   },
   "cell_type": "code",
   "source": "import trimesh\n",
   "id": "97724424f7df7895",
   "outputs": [],
   "execution_count": 5
  }
 ],
 "metadata": {
  "kernelspec": {
   "display_name": "Python 3",
   "language": "python",
   "name": "python3"
  },
  "language_info": {
   "codemirror_mode": {
    "name": "ipython",
    "version": 2
   },
   "file_extension": ".py",
   "mimetype": "text/x-python",
   "name": "python",
   "nbconvert_exporter": "python",
   "pygments_lexer": "ipython2",
   "version": "2.7.6"
  }
 },
 "nbformat": 4,
 "nbformat_minor": 5
}
